{
 "cells": [
  {
   "cell_type": "code",
   "execution_count": null,
   "id": "355ee042-008d-4c41-9fb7-fc822c51a50b",
   "metadata": {},
   "outputs": [],
   "source": [
    "from transformers import AutoModel, AutoTokenizer\n",
    "import torch\n",
    "from scipy.spatial.distance import cosine\n",
    "\n",
    "# Cargar el modelo BERT preentrenado (similar a Word2Vec pero más robusto)\n",
    "model_name = \"bert-base-uncased\"\n",
    "tokenizer = AutoTokenizer.from_pretrained(model_name)\n",
    "model = AutoModel.from_pretrained(model_name)\n",
    "\n",
    "# Palabras de ejemplo\n",
    "words = [\"king\", \"queen\", \"man\", \"woman\", \"cat\", \"dog\"]\n",
    "\n",
    "# Tokenizar y obtener embeddings\n",
    "word_vectors = {}\n",
    "for word in words:\n",
    "    inputs = tokenizer(word, return_tensors=\"pt\")\n",
    "    with torch.no_grad():\n",
    "        outputs = model(**inputs)\n",
    "        word_vectors[word] = outputs.last_hidden_state.mean(dim=1).squeeze().numpy()\n",
    "\n",
    "# Calcular similitud coseno\n",
    "similarity_matrix = np.array([[1 - cosine(word_vectors[w1], word_vectors[w2]) for w2 in words] for w1 in words])\n",
    "\n",
    "# Mostrar similitudes\n",
    "print(\"Similitud coseno entre palabras:\")\n",
    "for w1, row in zip(words, similarity_matrix):\n",
    "    print(f\"{w1}: {row}\")"
   ]
  }
 ],
 "metadata": {
  "kernelspec": {
   "display_name": "Python 3 (ipykernel)",
   "language": "python",
   "name": "python3"
  },
  "language_info": {
   "codemirror_mode": {
    "name": "ipython",
    "version": 3
   },
   "file_extension": ".py",
   "mimetype": "text/x-python",
   "name": "python",
   "nbconvert_exporter": "python",
   "pygments_lexer": "ipython3",
   "version": "3.12.6"
  }
 },
 "nbformat": 4,
 "nbformat_minor": 5
}
