{
 "cells": [
  {
   "cell_type": "code",
   "execution_count": 3,
   "id": "355ee042-008d-4c41-9fb7-fc822c51a50b",
   "metadata": {},
   "outputs": [],
   "source": [
    "from transformers import AutoModel, AutoTokenizer\n",
    "import torch\n",
    "from scipy.spatial.distance import cosine\n",
    "import numpy as np"
   ]
  },
  {
   "cell_type": "code",
   "execution_count": 4,
   "id": "084f2205-7c7d-40f9-a0d4-65e4f7c9edd2",
   "metadata": {},
   "outputs": [],
   "source": [
    "# Cargar el modelo BERT preentrenado (similar a Word2Vec pero más robusto)\n",
    "model_name = \"bert-base-uncased\"\n",
    "tokenizer = AutoTokenizer.from_pretrained(model_name)\n",
    "model = AutoModel.from_pretrained(model_name)\n",
    "\n",
    "# Palabras de ejemplo\n",
    "words = [\"king\", \"queen\", \"man\", \"woman\", \"cat\", \"dog\"]\n",
    "\n",
    "# Tokenizar y obtener embeddings\n",
    "word_vectors = {}\n",
    "for word in words:\n",
    "    inputs = tokenizer(word, return_tensors=\"pt\")\n",
    "    with torch.no_grad():\n",
    "        outputs = model(**inputs)\n",
    "        word_vectors[word] = outputs.last_hidden_state.mean(dim=1).squeeze().numpy()\n",
    "\n",
    "# Calcular similitud coseno\n",
    "similarity_matrix = np.array([[1 - cosine(word_vectors[w1], word_vectors[w2]) for w2 in words] for w1 in words])"
   ]
  },
  {
   "cell_type": "code",
   "execution_count": 5,
   "id": "8a09731f-152f-4a95-87b0-eaf81c1862a4",
   "metadata": {},
   "outputs": [
    {
     "name": "stdout",
     "output_type": "stream",
     "text": [
      "Similitud coseno entre palabras:\n",
      "king: [0.99999998 0.93882426 0.86181645 0.87864462 0.87267842 0.85303606]\n",
      "queen: [0.93882426 1.         0.87879222 0.89415062 0.8840131  0.83682315]\n",
      "man: [0.86181645 0.87879222 0.99999999 0.9260298  0.86900343 0.83045134]\n",
      "woman: [0.87864462 0.89415062 0.9260298  1.         0.87642809 0.85893852]\n",
      "cat: [0.87267842 0.8840131  0.86900343 0.87642809 0.99999998 0.90085159]\n",
      "dog: [0.85303606 0.83682315 0.83045134 0.85893852 0.90085159 0.99999998]\n"
     ]
    }
   ],
   "source": [
    "# Mostrar similitudes\n",
    "print(\"Similitud coseno entre palabras:\")\n",
    "for w1, row in zip(words, similarity_matrix):\n",
    "    print(f\"{w1}: {row}\")"
   ]
  },
  {
   "cell_type": "code",
   "execution_count": null,
   "id": "6120a88d-f0ba-4cbf-ac95-2e28e2eb716b",
   "metadata": {},
   "outputs": [],
   "source": []
  }
 ],
 "metadata": {
  "kernelspec": {
   "display_name": "Python 3 (ipykernel)",
   "language": "python",
   "name": "python3"
  },
  "language_info": {
   "codemirror_mode": {
    "name": "ipython",
    "version": 3
   },
   "file_extension": ".py",
   "mimetype": "text/x-python",
   "name": "python",
   "nbconvert_exporter": "python",
   "pygments_lexer": "ipython3",
   "version": "3.12.6"
  }
 },
 "nbformat": 4,
 "nbformat_minor": 5
}
