{
 "cells": [
  {
   "cell_type": "code",
   "execution_count": null,
   "id": "ea346fe6-26ba-4b41-934a-70650de0d4c6",
   "metadata": {},
   "outputs": [],
   "source": [
    "import gensim.downloader as api\n",
    "from sklearn.metrics.pairwise import cosine_similarity\n",
    "import numpy as np\n",
    "\n",
    "# Cargar el modelo GloVe\n",
    "glove_model = api.load(\"glove-wiki-gigaword-100\")\n",
    "\n",
    "# Palabras de ejemplo\n",
    "words = [\"king\", \"queen\", \"man\", \"woman\", \"cat\", \"dog\"]\n",
    "\n",
    "# Obtener los vectores\n",
    "word_vectors = {word: glove_model[word] for word in words}\n",
    "\n",
    "# Calcular similitud coseno entre pares de palabras\n",
    "similarity_matrix = np.array([[cosine_similarity([word_vectors[w1]], [word_vectors[w2]])[0][0] for w2 in words] for w1 in words])\n",
    "\n",
    "# Mostrar similitudes\n",
    "print(\"Similitud coseno entre palabras:\")\n",
    "for w1, row in zip(words, similarity_matrix):\n",
    "    print(f\"{w1}: {row}\")"
   ]
  }
 ],
 "metadata": {
  "kernelspec": {
   "display_name": "Python 3 (ipykernel)",
   "language": "python",
   "name": "python3"
  },
  "language_info": {
   "codemirror_mode": {
    "name": "ipython",
    "version": 3
   },
   "file_extension": ".py",
   "mimetype": "text/x-python",
   "name": "python",
   "nbconvert_exporter": "python",
   "pygments_lexer": "ipython3",
   "version": "3.12.6"
  }
 },
 "nbformat": 4,
 "nbformat_minor": 5
}
