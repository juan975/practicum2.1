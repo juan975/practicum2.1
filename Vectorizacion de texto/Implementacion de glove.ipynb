{
 "cells": [
  {
   "cell_type": "code",
   "execution_count": 1,
   "id": "ea346fe6-26ba-4b41-934a-70650de0d4c6",
   "metadata": {},
   "outputs": [],
   "source": [
    "import gensim.downloader as api\n",
    "from sklearn.metrics.pairwise import cosine_similarity\n",
    "import numpy as np"
   ]
  },
  {
   "cell_type": "code",
   "execution_count": 2,
   "id": "4ada58ff-c211-4fd4-988f-4ac61ed5b677",
   "metadata": {},
   "outputs": [
    {
     "name": "stdout",
     "output_type": "stream",
     "text": [
      "[=========-----------------------------------------] 18.3% 23.4/128.1MB downloaded"
     ]
    },
    {
     "name": "stderr",
     "output_type": "stream",
     "text": [
      "IOPub message rate exceeded.\n",
      "The Jupyter server will temporarily stop sending output\n",
      "to the client in order to avoid crashing it.\n",
      "To change this limit, set the config variable\n",
      "`--ServerApp.iopub_msg_rate_limit`.\n",
      "\n",
      "Current values:\n",
      "ServerApp.iopub_msg_rate_limit=1000.0 (msgs/sec)\n",
      "ServerApp.rate_limit_window=3.0 (secs)\n",
      "\n"
     ]
    },
    {
     "name": "stdout",
     "output_type": "stream",
     "text": [
      "[==============================--------------------] 61.6% 79.0/128.1MB downloaded"
     ]
    },
    {
     "name": "stderr",
     "output_type": "stream",
     "text": [
      "IOPub message rate exceeded.\n",
      "The Jupyter server will temporarily stop sending output\n",
      "to the client in order to avoid crashing it.\n",
      "To change this limit, set the config variable\n",
      "`--ServerApp.iopub_msg_rate_limit`.\n",
      "\n",
      "Current values:\n",
      "ServerApp.iopub_msg_rate_limit=1000.0 (msgs/sec)\n",
      "ServerApp.rate_limit_window=3.0 (secs)\n",
      "\n"
     ]
    },
    {
     "name": "stdout",
     "output_type": "stream",
     "text": [
      "\n",
      "==================================================] 100.0% 128.1/128.1MB downloaded"
     ]
    }
   ],
   "source": [
    "# Cargar el modelo GloVe\n",
    "glove_model = api.load(\"glove-wiki-gigaword-100\")\n",
    "\n",
    "# Palabras de ejemplo\n",
    "words = [\"king\", \"queen\", \"man\", \"woman\", \"cat\", \"dog\"]\n",
    "\n",
    "# Obtener los vectores\n",
    "word_vectors = {word: glove_model[word] for word in words}\n",
    "\n",
    "# Calcular similitud coseno entre pares de palabras\n",
    "similarity_matrix = np.array([[cosine_similarity([word_vectors[w1]], [word_vectors[w2]])[0][0] for w2 in words] for w1 in words])"
   ]
  },
  {
   "cell_type": "code",
   "execution_count": 3,
   "id": "9e0ee19a-b7d3-46b7-9456-e83e8d6da6ef",
   "metadata": {},
   "outputs": [
    {
     "name": "stdout",
     "output_type": "stream",
     "text": [
      "Similitud coseno entre palabras:\n",
      "king: [1.         0.7507691  0.5118681  0.36574456 0.32823762 0.29510066]\n",
      "queen: [0.7507691  0.9999999  0.47403228 0.5095154  0.38103625 0.3395347 ]\n",
      "man: [0.5118681  0.47403228 1.         0.8323495  0.52618414 0.5643127 ]\n",
      "woman: [0.36574456 0.5095154  0.8323495  1.         0.47835094 0.49806643]\n",
      "cat: [0.32823762 0.38103625 0.52618414 0.47835094 1.         0.8798075 ]\n",
      "dog: [0.29510066 0.3395347  0.5643127  0.49806643 0.8798075  1.        ]\n"
     ]
    }
   ],
   "source": [
    "# Mostrar similitudes\n",
    "print(\"Similitud coseno entre palabras:\")\n",
    "for w1, row in zip(words, similarity_matrix):\n",
    "    print(f\"{w1}: {row}\")"
   ]
  },
  {
   "cell_type": "code",
   "execution_count": null,
   "id": "21f47928-6846-4561-a113-06a89f4aa8aa",
   "metadata": {},
   "outputs": [],
   "source": []
  }
 ],
 "metadata": {
  "kernelspec": {
   "display_name": "Python 3 (ipykernel)",
   "language": "python",
   "name": "python3"
  },
  "language_info": {
   "codemirror_mode": {
    "name": "ipython",
    "version": 3
   },
   "file_extension": ".py",
   "mimetype": "text/x-python",
   "name": "python",
   "nbconvert_exporter": "python",
   "pygments_lexer": "ipython3",
   "version": "3.12.6"
  }
 },
 "nbformat": 4,
 "nbformat_minor": 5
}
