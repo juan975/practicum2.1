{
 "cells": [
  {
   "cell_type": "code",
   "execution_count": 1,
   "id": "924fb4d3-2990-4d6c-b51a-41c578cdfbe8",
   "metadata": {},
   "outputs": [
    {
     "name": "stderr",
     "output_type": "stream",
     "text": [
      "[nltk_data] Downloading package wordnet to C:\\Users\\ASUS-R-\n",
      "[nltk_data]     STRIX\\AppData\\Roaming\\nltk_data...\n",
      "[nltk_data]   Package wordnet is already up-to-date!\n"
     ]
    },
    {
     "data": {
      "text/plain": [
       "True"
      ]
     },
     "execution_count": 1,
     "metadata": {},
     "output_type": "execute_result"
    }
   ],
   "source": [
    "import re\n",
    "from nltk.stem import WordNetLemmatizer\n",
    "import nltk\n",
    "nltk.download('wordnet')"
   ]
  },
  {
   "cell_type": "code",
   "execution_count": 4,
   "id": "441c3784-e8f0-4afb-9d9f-1e63498ea46a",
   "metadata": {},
   "outputs": [],
   "source": [
    "# Texto de ejemplo\n",
    "text = \"Here's an example: Natural Lang. Processing is 123% interesting! 😊\"\n",
    "\n",
    "# Conversión a minúsculas\n",
    "text1 = text.lower()\n",
    "\n",
    "# Expansión de contracciones (requiere una lista predefinida)\n",
    "contractions = {\"here's\": \"here is\", \"isn't\": \"is not\", \"i'm\": \"i am\"}\n",
    "text2 = \" \".join([contractions[word] if word in contractions else word for word in text1.split()])\n",
    "\n",
    "# Eliminación de caracteres especiales y emojis\n",
    "text3 = re.sub(r'[^\\w\\s]', '', text2)\n",
    "\n",
    "# Corrección ortográfica (usando autocorrección como ejemplo básico)\n",
    "# Esto requeriría bibliotecas adicionales como `autocorrect`\n",
    "\n",
    "# Lematización\n",
    "lemmatizer = WordNetLemmatizer()\n",
    "words = text3.split()\n",
    "lemmatized_words = [lemmatizer.lemmatize(word) for word in words]"
   ]
  },
  {
   "cell_type": "code",
   "execution_count": 5,
   "id": "390c4a25-c9bc-439e-9874-acf6f745cee7",
   "metadata": {},
   "outputs": [
    {
     "name": "stdout",
     "output_type": "stream",
     "text": [
      "Texto original: Here's an example: Natural Lang. Processing is 123% interesting! 😊\n",
      "Texto normalizado: here is an example natural lang processing is 123 interesting\n"
     ]
    }
   ],
   "source": [
    "print(\"Texto original:\", text)\n",
    "print(\"Texto normalizado:\", \" \".join(lemmatized_words))"
   ]
  },
  {
   "cell_type": "code",
   "execution_count": null,
   "id": "14f007d6-2dd2-4107-b967-b0ddd7004a3f",
   "metadata": {},
   "outputs": [],
   "source": []
  }
 ],
 "metadata": {
  "kernelspec": {
   "display_name": "Python 3 (ipykernel)",
   "language": "python",
   "name": "python3"
  },
  "language_info": {
   "codemirror_mode": {
    "name": "ipython",
    "version": 3
   },
   "file_extension": ".py",
   "mimetype": "text/x-python",
   "name": "python",
   "nbconvert_exporter": "python",
   "pygments_lexer": "ipython3",
   "version": "3.12.6"
  }
 },
 "nbformat": 4,
 "nbformat_minor": 5
}
