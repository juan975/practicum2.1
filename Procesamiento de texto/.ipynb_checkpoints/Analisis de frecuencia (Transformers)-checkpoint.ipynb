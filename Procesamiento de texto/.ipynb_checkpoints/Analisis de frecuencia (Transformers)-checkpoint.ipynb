{
 "cells": [
  {
   "cell_type": "code",
   "execution_count": 1,
   "id": "d8cd95c6-48a0-42c0-89c9-8d247fdaf94d",
   "metadata": {},
   "outputs": [
    {
     "name": "stderr",
     "output_type": "stream",
     "text": [
      "C:\\Users\\ASUS-R-STRIX\\OneDrive - Universidad Técnica Particular de Loja - UTPL\\Documentos\\UTPL\\Ciclo 5\\Pracxticum 2.1\\Ejercicios\\env1\\Lib\\site-packages\\tqdm\\auto.py:21: TqdmWarning: IProgress not found. Please update jupyter and ipywidgets. See https://ipywidgets.readthedocs.io/en/stable/user_install.html\n",
      "  from .autonotebook import tqdm as notebook_tqdm\n"
     ]
    }
   ],
   "source": [
    "from transformers import BertTokenizer\n",
    "from collections import Counter"
   ]
  },
  {
   "cell_type": "code",
   "execution_count": 2,
   "id": "0669e9e9-83b6-493e-b5ed-fc6f4d6bba09",
   "metadata": {},
   "outputs": [],
   "source": [
    "# Inicializar el tokenizador de BERT\n",
    "tokenizer = BertTokenizer.from_pretrained(\"bert-base-uncased\")\n",
    "\n",
    "# Texto de ejemplo\n",
    "text = \"Natural Language Processing is a fascinating field. Processing and analyzing text is a core task in NLP.\"\n",
    "\n",
    "# Tokenización\n",
    "tokens = tokenizer.tokenize(text.lower())\n",
    "\n",
    "# Filtrar solo palabras alfabéticas\n",
    "filtered_tokens = [token for token in tokens if token.isalpha()]\n",
    "\n",
    "# Cálculo de frecuencias\n",
    "freq_counter = Counter(filtered_tokens)"
   ]
  },
  {
   "cell_type": "code",
   "execution_count": 3,
   "id": "0dab6b74-7cab-4384-97f5-91f22785b599",
   "metadata": {},
   "outputs": [
    {
     "name": "stdout",
     "output_type": "stream",
     "text": [
      "Frecuencias con Transformers:\n",
      "[('processing', 2), ('is', 2), ('a', 2), ('natural', 1), ('language', 1)]\n"
     ]
    }
   ],
   "source": [
    "# Mostrar las palabras más comunes\n",
    "print(\"Frecuencias con Transformers:\")\n",
    "print(freq_counter.most_common(5))"
   ]
  },
  {
   "cell_type": "code",
   "execution_count": null,
   "id": "39e5ad4a-8580-4814-b27d-a1474ec40690",
   "metadata": {},
   "outputs": [],
   "source": []
  }
 ],
 "metadata": {
  "kernelspec": {
   "display_name": "Python 3 (ipykernel)",
   "language": "python",
   "name": "python3"
  },
  "language_info": {
   "codemirror_mode": {
    "name": "ipython",
    "version": 3
   },
   "file_extension": ".py",
   "mimetype": "text/x-python",
   "name": "python",
   "nbconvert_exporter": "python",
   "pygments_lexer": "ipython3",
   "version": "3.12.6"
  }
 },
 "nbformat": 4,
 "nbformat_minor": 5
}
