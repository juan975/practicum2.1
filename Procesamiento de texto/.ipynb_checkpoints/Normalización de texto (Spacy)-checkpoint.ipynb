{
 "cells": [
  {
   "cell_type": "code",
   "execution_count": 1,
   "id": "582daad9-42c3-4b5e-a0a9-eb86e9f94b98",
   "metadata": {},
   "outputs": [],
   "source": [
    "import spacy\n",
    "\n",
    "# Carga el modelo de SpaCy\n",
    "nlp = spacy.load(\"en_core_web_sm\")"
   ]
  },
  {
   "cell_type": "code",
   "execution_count": 2,
   "id": "31c84c0f-9833-4a68-b4a3-ae06fc7e6ee2",
   "metadata": {},
   "outputs": [],
   "source": [
    "# Texto de ejemplo\n",
    "text = \"Here's an example: Natural Lang. Processing is 123% interesting! 😊\"\n",
    "\n",
    "# Procesamiento de texto con SpaCy\n",
    "doc = nlp(text)\n",
    "\n",
    "# Normalización: minúsculas, lematización, y eliminación de stopwords/puntuación\n",
    "normalized_text = [\n",
    "    token.lemma_\n",
    "    for token in doc\n",
    "    if not token.is_stop and not token.is_punct and not token.is_space\n",
    "]"
   ]
  },
  {
   "cell_type": "code",
   "execution_count": 3,
   "id": "d0cb0c16-39ad-4cb2-a198-68ed0b3eda34",
   "metadata": {},
   "outputs": [
    {
     "name": "stdout",
     "output_type": "stream",
     "text": [
      "Texto original: Here's an example: Natural Lang. Processing is 123% interesting! 😊\n",
      "Texto normalizado con SpaCy: example Natural Lang processing 123 interesting 😊\n"
     ]
    }
   ],
   "source": [
    "print(\"Texto original:\", text)\n",
    "print(\"Texto normalizado con SpaCy:\", \" \".join(normalized_text))"
   ]
  },
  {
   "cell_type": "code",
   "execution_count": null,
   "id": "013cb314-84c2-422c-88c0-a582c975a701",
   "metadata": {},
   "outputs": [],
   "source": []
  }
 ],
 "metadata": {
  "kernelspec": {
   "display_name": "Python 3 (ipykernel)",
   "language": "python",
   "name": "python3"
  },
  "language_info": {
   "codemirror_mode": {
    "name": "ipython",
    "version": 3
   },
   "file_extension": ".py",
   "mimetype": "text/x-python",
   "name": "python",
   "nbconvert_exporter": "python",
   "pygments_lexer": "ipython3",
   "version": "3.12.6"
  }
 },
 "nbformat": 4,
 "nbformat_minor": 5
}
