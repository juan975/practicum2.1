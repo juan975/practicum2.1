{
 "cells": [
  {
   "cell_type": "code",
   "execution_count": 1,
   "id": "72317830-f686-4e32-afc8-7d6f7fa724da",
   "metadata": {},
   "outputs": [
    {
     "name": "stderr",
     "output_type": "stream",
     "text": [
      "[nltk_data] Downloading package stopwords to C:\\Users\\ASUS-R-\n",
      "[nltk_data]     STRIX\\AppData\\Roaming\\nltk_data...\n",
      "[nltk_data]   Package stopwords is already up-to-date!\n",
      "[nltk_data] Downloading package wordnet to C:\\Users\\ASUS-R-\n",
      "[nltk_data]     STRIX\\AppData\\Roaming\\nltk_data...\n",
      "[nltk_data]   Package wordnet is already up-to-date!\n"
     ]
    },
    {
     "data": {
      "text/plain": [
       "True"
      ]
     },
     "execution_count": 1,
     "metadata": {},
     "output_type": "execute_result"
    }
   ],
   "source": [
    "import re\n",
    "import nltk\n",
    "from nltk.corpus import stopwords\n",
    "from nltk.stem import PorterStemmer, WordNetLemmatizer\n",
    "\n",
    "nltk.download(\"stopwords\")\n",
    "nltk.download(\"wordnet\")"
   ]
  },
  {
   "cell_type": "code",
   "execution_count": 2,
   "id": "b63c0067-bf6d-4e68-bc8c-9d31aea1b4d1",
   "metadata": {},
   "outputs": [],
   "source": [
    "# Texto de ejemplo\n",
    "text = \"Natural Language Processing is a fascinating field! It includes tasks like Text Preprocessing, Tokenization, and Stemming.\"\n",
    "\n",
    "# Conversión a minúsculas\n",
    "text = text.lower()\n",
    "\n",
    "# Eliminación de puntuación y caracteres especiales\n",
    "text = re.sub(r\"[^\\w\\s]\", \"\", text)\n",
    "\n",
    "# Tokenización\n",
    "words = nltk.word_tokenize(text)\n",
    "\n",
    "# Eliminación de stopwords\n",
    "stop_words = set(stopwords.words(\"english\"))\n",
    "filtered_words = [word for word in words if word not in stop_words]\n",
    "\n",
    "# Stemming\n",
    "stemmer = PorterStemmer()\n",
    "stemmed_words = [stemmer.stem(word) for word in filtered_words]\n",
    "\n",
    "# Lematización\n",
    "lemmatizer = WordNetLemmatizer()\n",
    "lemmatized_words = [lemmatizer.lemmatize(word) for word in filtered_words]"
   ]
  },
  {
   "cell_type": "code",
   "execution_count": 3,
   "id": "de379d14-60b6-4c0a-9b40-90de9633a02f",
   "metadata": {},
   "outputs": [
    {
     "name": "stdout",
     "output_type": "stream",
     "text": [
      "Texto original: natural language processing is a fascinating field it includes tasks like text preprocessing tokenization and stemming\n",
      "Palabras filtradas: ['natural', 'language', 'processing', 'fascinating', 'field', 'includes', 'tasks', 'like', 'text', 'preprocessing', 'tokenization', 'stemming']\n",
      "Stemming: ['natur', 'languag', 'process', 'fascin', 'field', 'includ', 'task', 'like', 'text', 'preprocess', 'token', 'stem']\n",
      "Lematización: ['natural', 'language', 'processing', 'fascinating', 'field', 'includes', 'task', 'like', 'text', 'preprocessing', 'tokenization', 'stemming']\n"
     ]
    }
   ],
   "source": [
    "print(\"Texto original:\", text)\n",
    "print(\"Palabras filtradas:\", filtered_words)\n",
    "print(\"Stemming:\", stemmed_words)\n",
    "print(\"Lematización:\", lemmatized_words)"
   ]
  },
  {
   "cell_type": "code",
   "execution_count": null,
   "id": "16c59e10-b85b-4f20-9a52-7989fb7723b4",
   "metadata": {},
   "outputs": [],
   "source": []
  }
 ],
 "metadata": {
  "kernelspec": {
   "display_name": "Python 3 (ipykernel)",
   "language": "python",
   "name": "python3"
  },
  "language_info": {
   "codemirror_mode": {
    "name": "ipython",
    "version": 3
   },
   "file_extension": ".py",
   "mimetype": "text/x-python",
   "name": "python",
   "nbconvert_exporter": "python",
   "pygments_lexer": "ipython3",
   "version": "3.12.6"
  }
 },
 "nbformat": 4,
 "nbformat_minor": 5
}
