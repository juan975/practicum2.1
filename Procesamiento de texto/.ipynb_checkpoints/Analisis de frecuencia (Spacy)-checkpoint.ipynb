{
 "cells": [
  {
   "cell_type": "code",
   "execution_count": 1,
   "id": "13aca459-21fc-42eb-a76d-5c12ec79b732",
   "metadata": {},
   "outputs": [],
   "source": [
    "import spacy\n",
    "from collections import Counter\n",
    "\n",
    "# Carga el modelo de SpaCy\n",
    "nlp = spacy.load(\"en_core_web_sm\")"
   ]
  },
  {
   "cell_type": "code",
   "execution_count": 2,
   "id": "ad9aecdf-5934-473e-b316-36ffeb7efee1",
   "metadata": {},
   "outputs": [],
   "source": [
    "# Texto de ejemplo\n",
    "text = \"Natural Language Processing is a fascinating field. Processing and analyzing text is a core task in NLP.\"\n",
    "\n",
    "# Procesar el texto\n",
    "doc = nlp(text.lower())\n",
    "\n",
    "# Filtrar tokens relevantes\n",
    "tokens = [token.text for token in doc if not token.is_stop and token.is_alpha]\n",
    "\n",
    "# Cálculo de frecuencias\n",
    "freq_counter = Counter(tokens)"
   ]
  },
  {
   "cell_type": "code",
   "execution_count": 3,
   "id": "19785bd9-f3b9-4ece-a31a-dbb68c3c6518",
   "metadata": {},
   "outputs": [
    {
     "name": "stdout",
     "output_type": "stream",
     "text": [
      "Frecuencias con SpaCy:\n",
      "[('processing', 2), ('natural', 1), ('language', 1), ('fascinating', 1), ('field', 1)]\n"
     ]
    }
   ],
   "source": [
    "# Mostrar las palabras más comunes\n",
    "print(\"Frecuencias con SpaCy:\")\n",
    "print(freq_counter.most_common(5))"
   ]
  },
  {
   "cell_type": "code",
   "execution_count": null,
   "id": "c14a1f7f-f8e5-44e0-a87d-d5a84be25642",
   "metadata": {},
   "outputs": [],
   "source": []
  }
 ],
 "metadata": {
  "kernelspec": {
   "display_name": "Python 3 (ipykernel)",
   "language": "python",
   "name": "python3"
  },
  "language_info": {
   "codemirror_mode": {
    "name": "ipython",
    "version": 3
   },
   "file_extension": ".py",
   "mimetype": "text/x-python",
   "name": "python",
   "nbconvert_exporter": "python",
   "pygments_lexer": "ipython3",
   "version": "3.12.6"
  }
 },
 "nbformat": 4,
 "nbformat_minor": 5
}
