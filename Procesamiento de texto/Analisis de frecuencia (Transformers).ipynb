{
 "cells": [
  {
   "cell_type": "code",
   "execution_count": null,
   "id": "d8cd95c6-48a0-42c0-89c9-8d247fdaf94d",
   "metadata": {},
   "outputs": [],
   "source": [
    "from transformers import BertTokenizer\n",
    "from collections import Counter\n",
    "\n",
    "# Inicializar el tokenizador de BERT\n",
    "tokenizer = BertTokenizer.from_pretrained(\"bert-base-uncased\")\n",
    "\n",
    "# Texto de ejemplo\n",
    "text = \"Natural Language Processing is a fascinating field. Processing and analyzing text is a core task in NLP.\"\n",
    "\n",
    "# Tokenización\n",
    "tokens = tokenizer.tokenize(text.lower())\n",
    "\n",
    "# Filtrar solo palabras alfabéticas\n",
    "filtered_tokens = [token for token in tokens if token.isalpha()]\n",
    "\n",
    "# Cálculo de frecuencias\n",
    "freq_counter = Counter(filtered_tokens)\n",
    "\n",
    "# Mostrar las palabras más comunes\n",
    "print(\"Frecuencias con Transformers:\")\n",
    "print(freq_counter.most_common(5))"
   ]
  }
 ],
 "metadata": {
  "kernelspec": {
   "display_name": "Python 3 (ipykernel)",
   "language": "python",
   "name": "python3"
  },
  "language_info": {
   "codemirror_mode": {
    "name": "ipython",
    "version": 3
   },
   "file_extension": ".py",
   "mimetype": "text/x-python",
   "name": "python",
   "nbconvert_exporter": "python",
   "pygments_lexer": "ipython3",
   "version": "3.12.6"
  }
 },
 "nbformat": 4,
 "nbformat_minor": 5
}
