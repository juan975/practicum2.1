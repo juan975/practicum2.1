{
 "cells": [
  {
   "cell_type": "code",
   "execution_count": 1,
   "id": "75ae353e-5fc3-4db2-a464-0965853ce2b8",
   "metadata": {},
   "outputs": [
    {
     "name": "stderr",
     "output_type": "stream",
     "text": [
      "C:\\Users\\ASUS-R-STRIX\\OneDrive - Universidad Técnica Particular de Loja - UTPL\\Documentos\\UTPL\\Ciclo 5\\Pracxticum 2.1\\Ejercicios\\env1\\Lib\\site-packages\\tqdm\\auto.py:21: TqdmWarning: IProgress not found. Please update jupyter and ipywidgets. See https://ipywidgets.readthedocs.io/en/stable/user_install.html\n",
      "  from .autonotebook import tqdm as notebook_tqdm\n"
     ]
    }
   ],
   "source": [
    "from transformers import BertTokenizer\n",
    "\n",
    "# Cargar el tokenizador de BERT\n",
    "tokenizer = BertTokenizer.from_pretrained(\"bert-base-uncased\")"
   ]
  },
  {
   "cell_type": "code",
   "execution_count": 2,
   "id": "510b4dab-61a3-461f-bd63-c24b24da4396",
   "metadata": {},
   "outputs": [],
   "source": [
    "# Texto de ejemplo\n",
    "text = \"Here's an example: Natural Lang. Processing is 123% interesting! 😊\"\n",
    "\n",
    "# Tokenización y normalización básica\n",
    "tokens = tokenizer.tokenize(text)\n",
    "\n",
    "# Eliminación de símbolos no deseados y emojis (se mantiene lo relevante para el modelo)\n",
    "normalized_tokens = [token for token in tokens if token.isalpha()]"
   ]
  },
  {
   "cell_type": "code",
   "execution_count": 3,
   "id": "82f70a0a-e7c2-42f1-be16-d9b38a267aea",
   "metadata": {},
   "outputs": [
    {
     "name": "stdout",
     "output_type": "stream",
     "text": [
      "Texto original: Here's an example: Natural Lang. Processing is 123% interesting! 😊\n",
      "Texto normalizado con Transformers: here s an example natural lang processing is interesting\n"
     ]
    }
   ],
   "source": [
    "print(\"Texto original:\", text)\n",
    "print(\"Texto normalizado con Transformers:\", \" \".join(normalized_tokens))"
   ]
  },
  {
   "cell_type": "code",
   "execution_count": null,
   "id": "05633170-09bb-4d54-8f71-5d5d918deba5",
   "metadata": {},
   "outputs": [],
   "source": []
  }
 ],
 "metadata": {
  "kernelspec": {
   "display_name": "Python 3 (ipykernel)",
   "language": "python",
   "name": "python3"
  },
  "language_info": {
   "codemirror_mode": {
    "name": "ipython",
    "version": 3
   },
   "file_extension": ".py",
   "mimetype": "text/x-python",
   "name": "python",
   "nbconvert_exporter": "python",
   "pygments_lexer": "ipython3",
   "version": "3.12.6"
  }
 },
 "nbformat": 4,
 "nbformat_minor": 5
}
