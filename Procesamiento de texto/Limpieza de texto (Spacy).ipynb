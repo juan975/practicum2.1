{
 "cells": [
  {
   "cell_type": "code",
   "execution_count": 1,
   "id": "fc19f271-8613-449d-8182-7ce7c40beeae",
   "metadata": {},
   "outputs": [],
   "source": [
    "import spacy"
   ]
  },
  {
   "cell_type": "code",
   "execution_count": 2,
   "id": "e609c79a-c4c1-46d0-881b-877751b48f11",
   "metadata": {},
   "outputs": [],
   "source": [
    "# Carga el modelo de SpaCy\n",
    "nlp = spacy.load(\"en_core_web_sm\")\n",
    "\n",
    "# Texto de ejemplo\n",
    "text = \"Natural Language Processing is a fascinating field! It includes tasks like Text Preprocessing, Tokenization, and Stemming.\""
   ]
  },
  {
   "cell_type": "code",
   "execution_count": 3,
   "id": "5232686c-c36c-431a-b2f5-2745264d285f",
   "metadata": {},
   "outputs": [
    {
     "name": "stdout",
     "output_type": "stream",
     "text": [
      "Texto original: Natural Language Processing is a fascinating field! It includes tasks like Text Preprocessing, Tokenization, and Stemming.\n",
      "Texto limpio con SpaCy: Natural Language processing fascinating field include task like Text Preprocessing Tokenization Stemming\n"
     ]
    }
   ],
   "source": [
    "# Procesar el texto con SpaCy\n",
    "doc = nlp(text)\n",
    "\n",
    "# Conversión a minúsculas, eliminación de stopwords, y lematización\n",
    "cleaned_words = [\n",
    "    token.lemma_ for token in doc if not token.is_stop and not token.is_punct\n",
    "]\n",
    "\n",
    "print(\"Texto original:\", text)\n",
    "print(\"Texto limpio con SpaCy:\", \" \".join(cleaned_words))"
   ]
  },
  {
   "cell_type": "code",
   "execution_count": null,
   "id": "c2c21dfa-ea01-4867-9f84-3bfb1f8677f7",
   "metadata": {},
   "outputs": [],
   "source": []
  }
 ],
 "metadata": {
  "kernelspec": {
   "display_name": "Python 3 (ipykernel)",
   "language": "python",
   "name": "python3"
  },
  "language_info": {
   "codemirror_mode": {
    "name": "ipython",
    "version": 3
   },
   "file_extension": ".py",
   "mimetype": "text/x-python",
   "name": "python",
   "nbconvert_exporter": "python",
   "pygments_lexer": "ipython3",
   "version": "3.12.6"
  }
 },
 "nbformat": 4,
 "nbformat_minor": 5
}
