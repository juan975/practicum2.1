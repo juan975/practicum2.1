{
 "cells": [
  {
   "cell_type": "code",
   "execution_count": 1,
   "id": "088c6e40-32df-42d9-a6ca-aa0c2c105e50",
   "metadata": {},
   "outputs": [
    {
     "name": "stderr",
     "output_type": "stream",
     "text": [
      "C:\\Users\\ASUS-R-STRIX\\OneDrive - Universidad Técnica Particular de Loja - UTPL\\Documentos\\UTPL\\Ciclo 5\\Pracxticum 2.1\\Ejercicios\\env1\\Lib\\site-packages\\tqdm\\auto.py:21: TqdmWarning: IProgress not found. Please update jupyter and ipywidgets. See https://ipywidgets.readthedocs.io/en/stable/user_install.html\n",
      "  from .autonotebook import tqdm as notebook_tqdm\n"
     ]
    }
   ],
   "source": [
    "from transformers import BertTokenizer"
   ]
  },
  {
   "cell_type": "code",
   "execution_count": 2,
   "id": "ddc3efbb-2f32-4035-812c-c428b2c51402",
   "metadata": {},
   "outputs": [],
   "source": [
    "# Inicializar el tokenizador de BERT\n",
    "tokenizer = BertTokenizer.from_pretrained(\"bert-base-uncased\")\n",
    "\n",
    "# Texto de ejemplo\n",
    "text = \"Natural Language Processing is a fascinating field! It includes tasks like Text Preprocessing, Tokenization, and Stemming.\"\n",
    "\n",
    "# Tokenización y normalización\n",
    "tokens = tokenizer.tokenize(text.lower())\n",
    "\n",
    "# Eliminación de caracteres especiales y palabras irrelevantes\n",
    "cleaned_tokens = [token for token in tokens if token.isalpha()]"
   ]
  },
  {
   "cell_type": "code",
   "execution_count": 3,
   "id": "a21a7ae3-3bc2-4f1d-9772-721818ed696e",
   "metadata": {},
   "outputs": [
    {
     "name": "stdout",
     "output_type": "stream",
     "text": [
      "Texto original: Natural Language Processing is a fascinating field! It includes tasks like Text Preprocessing, Tokenization, and Stemming.\n",
      "Texto limpio con Transformers: natural language processing is a fascinating field it includes tasks like text prep token and stemming\n"
     ]
    }
   ],
   "source": [
    "print(\"Texto original:\", text)\n",
    "print(\"Texto limpio con Transformers:\", \" \".join(cleaned_tokens))"
   ]
  },
  {
   "cell_type": "code",
   "execution_count": null,
   "id": "d91d9ed4-f179-4be7-a621-deaf27e708ee",
   "metadata": {},
   "outputs": [],
   "source": []
  }
 ],
 "metadata": {
  "kernelspec": {
   "display_name": "Python 3 (ipykernel)",
   "language": "python",
   "name": "python3"
  },
  "language_info": {
   "codemirror_mode": {
    "name": "ipython",
    "version": 3
   },
   "file_extension": ".py",
   "mimetype": "text/x-python",
   "name": "python",
   "nbconvert_exporter": "python",
   "pygments_lexer": "ipython3",
   "version": "3.12.6"
  }
 },
 "nbformat": 4,
 "nbformat_minor": 5
}
