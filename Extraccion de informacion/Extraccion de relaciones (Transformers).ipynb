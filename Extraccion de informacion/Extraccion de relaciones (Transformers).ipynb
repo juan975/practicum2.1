{
 "cells": [
  {
   "cell_type": "code",
   "execution_count": 1,
   "id": "c6d5ee8e-03c5-451d-aa25-37fb2021f211",
   "metadata": {},
   "outputs": [
    {
     "name": "stderr",
     "output_type": "stream",
     "text": [
      "C:\\Users\\ASUS-R-STRIX\\OneDrive - Universidad Técnica Particular de Loja - UTPL\\Documentos\\UTPL\\Ciclo 5\\Pracxticum 2.1\\Ejercicios\\env1\\Lib\\site-packages\\tqdm\\auto.py:21: TqdmWarning: IProgress not found. Please update jupyter and ipywidgets. See https://ipywidgets.readthedocs.io/en/stable/user_install.html\n",
      "  from .autonotebook import tqdm as notebook_tqdm\n",
      "C:\\Users\\ASUS-R-STRIX\\OneDrive - Universidad Técnica Particular de Loja - UTPL\\Documentos\\UTPL\\Ciclo 5\\Pracxticum 2.1\\Ejercicios\\env1\\Lib\\site-packages\\huggingface_hub\\file_download.py:139: UserWarning: `huggingface_hub` cache-system uses symlinks by default to efficiently store duplicated files but your machine does not support them in C:\\Users\\ASUS-R-STRIX\\.cache\\huggingface\\hub\\models--dslim--bert-base-NER. Caching files will still work but in a degraded version that might require more space on your disk. This warning can be disabled by setting the `HF_HUB_DISABLE_SYMLINKS_WARNING` environment variable. For more details, see https://huggingface.co/docs/huggingface_hub/how-to-cache#limitations.\n",
      "To support symlinks on Windows, you either need to activate Developer Mode or to run Python as an administrator. In order to activate developer mode, see this article: https://docs.microsoft.com/en-us/windows/apps/get-started/enable-your-device-for-development\n",
      "  warnings.warn(message)\n",
      "Device set to use cpu\n"
     ]
    }
   ],
   "source": [
    "from transformers import pipeline\n",
    "\n",
    "# Cargar un modelo de relación entrenado (si disponible, e.g., para extracción de tripletas)\n",
    "relation_pipeline = pipeline(\"text-classification\", model=\"dslim/bert-base-NER\")"
   ]
  },
  {
   "cell_type": "code",
   "execution_count": 2,
   "id": "3e5525fa-9b73-4fe9-ad21-b7a55a966896",
   "metadata": {},
   "outputs": [],
   "source": [
    "# Texto de ejemplo\n",
    "text = \"Barack Obama, the former president, is married to Michelle Obama and lives in Washington, D.C.\"\n",
    "\n",
    "# NOTA: Este ejemplo utiliza un modelo genérico; modelos específicos pueden requerir ajuste.\n",
    "relations = relation_pipeline(text)"
   ]
  },
  {
   "cell_type": "code",
   "execution_count": 3,
   "id": "60dc40cf-594e-435d-92ca-c6cf6d6996ca",
   "metadata": {},
   "outputs": [
    {
     "name": "stdout",
     "output_type": "stream",
     "text": [
      "Relaciones extraídas con Transformers (genérico):\n",
      "[{'label': 'O', 'score': 0.24216845631599426}]\n"
     ]
    }
   ],
   "source": [
    "print(\"Relaciones extraídas con Transformers (genérico):\")\n",
    "print(relations)"
   ]
  },
  {
   "cell_type": "code",
   "execution_count": null,
   "id": "71b13c42-aab0-40e0-bcb1-e3fd64af0eec",
   "metadata": {},
   "outputs": [],
   "source": []
  }
 ],
 "metadata": {
  "kernelspec": {
   "display_name": "Python 3 (ipykernel)",
   "language": "python",
   "name": "python3"
  },
  "language_info": {
   "codemirror_mode": {
    "name": "ipython",
    "version": 3
   },
   "file_extension": ".py",
   "mimetype": "text/x-python",
   "name": "python",
   "nbconvert_exporter": "python",
   "pygments_lexer": "ipython3",
   "version": "3.12.6"
  }
 },
 "nbformat": 4,
 "nbformat_minor": 5
}
