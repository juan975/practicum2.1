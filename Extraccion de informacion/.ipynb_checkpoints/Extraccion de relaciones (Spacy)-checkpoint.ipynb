{
 "cells": [
  {
   "cell_type": "code",
   "execution_count": 1,
   "id": "36be4e41-fcf5-40a7-ab7b-53d980c70823",
   "metadata": {},
   "outputs": [],
   "source": [
    "import spacy\n",
    "\n",
    "# Cargar modelo de SpaCy\n",
    "nlp = spacy.load(\"en_core_web_sm\")"
   ]
  },
  {
   "cell_type": "code",
   "execution_count": 2,
   "id": "f37f14d8-9413-4b8b-9134-1461af2d62d0",
   "metadata": {},
   "outputs": [],
   "source": [
    "# Texto de ejemplo\n",
    "text = \"Barack Obama, the former president, is married to Michelle Obama and lives in Washington, D.C.\"\n",
    "\n",
    "# Procesar texto\n",
    "doc = nlp(text)"
   ]
  },
  {
   "cell_type": "code",
   "execution_count": 3,
   "id": "d29eb23c-7c84-4b01-9a74-02ebfd5c011e",
   "metadata": {},
   "outputs": [
    {
     "name": "stdout",
     "output_type": "stream",
     "text": [
      "Relaciones extraídas con SpaCy:\n"
     ]
    }
   ],
   "source": [
    "# Extracción de relaciones\n",
    "print(\"Relaciones extraídas con SpaCy:\")\n",
    "for token in doc:\n",
    "    if token.dep_ in (\"nsubj\", \"dobj\", \"pobj\") and token.head.pos_ == \"VERB\":\n",
    "        print(f\"Relación: ({token.text} -> {token.head.text})\")"
   ]
  },
  {
   "cell_type": "code",
   "execution_count": null,
   "id": "e835bae3-037d-4a22-92ba-cbf9d7332621",
   "metadata": {},
   "outputs": [],
   "source": []
  }
 ],
 "metadata": {
  "kernelspec": {
   "display_name": "Python 3 (ipykernel)",
   "language": "python",
   "name": "python3"
  },
  "language_info": {
   "codemirror_mode": {
    "name": "ipython",
    "version": 3
   },
   "file_extension": ".py",
   "mimetype": "text/x-python",
   "name": "python",
   "nbconvert_exporter": "python",
   "pygments_lexer": "ipython3",
   "version": "3.12.6"
  }
 },
 "nbformat": 4,
 "nbformat_minor": 5
}
