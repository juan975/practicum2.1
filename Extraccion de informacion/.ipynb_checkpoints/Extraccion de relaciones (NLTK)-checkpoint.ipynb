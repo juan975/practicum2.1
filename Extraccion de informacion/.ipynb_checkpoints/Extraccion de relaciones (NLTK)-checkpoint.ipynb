{
 "cells": [
  {
   "cell_type": "code",
   "execution_count": 1,
   "id": "be55e372-5ca6-4039-8360-c19c4f0651d9",
   "metadata": {},
   "outputs": [],
   "source": [
    "from nltk import pos_tag, word_tokenize"
   ]
  },
  {
   "cell_type": "code",
   "execution_count": 2,
   "id": "3dda6f22-dadb-4424-96e8-94a3dd6d7600",
   "metadata": {},
   "outputs": [],
   "source": [
    "# Texto de ejemplo\n",
    "text = \"Barack Obama, the former president, is married to Michelle Obama and lives in Washington, D.C.\"\n",
    "\n",
    "# Tokenización y etiquetado POS\n",
    "tokens = word_tokenize(text)\n",
    "pos_tags = pos_tag(tokens)\n",
    "\n",
    "# Extracción básica de relaciones basadas en reglas\n",
    "relations = []\n",
    "for i in range(len(pos_tags) - 1):\n",
    "    if pos_tags[i][1] == 'NNP' and pos_tags[i+1][1] == 'NNP':\n",
    "        relations.append((pos_tags[i][0], \"related to\", pos_tags[i+1][0]))"
   ]
  },
  {
   "cell_type": "code",
   "execution_count": 3,
   "id": "c079d854-5139-4a43-918c-d5367632e9ff",
   "metadata": {},
   "outputs": [
    {
     "name": "stdout",
     "output_type": "stream",
     "text": [
      "Relaciones extraídas con NLTK:\n",
      "[('Barack', 'related to', 'Obama'), ('Michelle', 'related to', 'Obama')]\n"
     ]
    }
   ],
   "source": [
    "print(\"Relaciones extraídas con NLTK:\")\n",
    "print(relations)"
   ]
  },
  {
   "cell_type": "code",
   "execution_count": null,
   "id": "80900253-3237-45a0-8082-bb056201df99",
   "metadata": {},
   "outputs": [],
   "source": []
  }
 ],
 "metadata": {
  "kernelspec": {
   "display_name": "Python 3 (ipykernel)",
   "language": "python",
   "name": "python3"
  },
  "language_info": {
   "codemirror_mode": {
    "name": "ipython",
    "version": 3
   },
   "file_extension": ".py",
   "mimetype": "text/x-python",
   "name": "python",
   "nbconvert_exporter": "python",
   "pygments_lexer": "ipython3",
   "version": "3.12.6"
  }
 },
 "nbformat": 4,
 "nbformat_minor": 5
}
