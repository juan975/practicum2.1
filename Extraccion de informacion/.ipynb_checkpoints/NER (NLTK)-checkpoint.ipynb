{
 "cells": [
  {
   "cell_type": "code",
   "execution_count": 1,
   "id": "76e22882-6239-4433-80dd-e64b7e7170b5",
   "metadata": {},
   "outputs": [
    {
     "name": "stderr",
     "output_type": "stream",
     "text": [
      "[nltk_data] Downloading package maxent_ne_chunker to C:\\Users\\ASUS-R-\n",
      "[nltk_data]     STRIX\\AppData\\Roaming\\nltk_data...\n",
      "[nltk_data]   Package maxent_ne_chunker is already up-to-date!\n",
      "[nltk_data] Downloading package words to C:\\Users\\ASUS-R-\n",
      "[nltk_data]     STRIX\\AppData\\Roaming\\nltk_data...\n",
      "[nltk_data]   Package words is already up-to-date!\n",
      "[nltk_data] Downloading package punkt to C:\\Users\\ASUS-R-\n",
      "[nltk_data]     STRIX\\AppData\\Roaming\\nltk_data...\n",
      "[nltk_data]   Package punkt is already up-to-date!\n"
     ]
    },
    {
     "data": {
      "text/plain": [
       "True"
      ]
     },
     "execution_count": 1,
     "metadata": {},
     "output_type": "execute_result"
    }
   ],
   "source": [
    "import nltk\n",
    "from nltk import word_tokenize, pos_tag, ne_chunk\n",
    "from nltk.tree import Tree\n",
    "nltk.download('maxent_ne_chunker')\n",
    "nltk.download('words')\n",
    "nltk.download('punkt')"
   ]
  },
  {
   "cell_type": "code",
   "execution_count": 2,
   "id": "b94c1819-d39a-4491-ac6c-a30ac2d01a04",
   "metadata": {},
   "outputs": [],
   "source": [
    "# Texto de ejemplo\n",
    "text = \"Barack Obama was the 44th President of the United States and lived in Washington, D.C.\"\n",
    "\n",
    "# Tokenización y etiquetado POS\n",
    "tokens = word_tokenize(text)\n",
    "pos_tags = pos_tag(tokens)\n",
    "\n",
    "# Reconocimiento de entidades nombradas\n",
    "entities = ne_chunk(pos_tags)\n",
    "\n",
    "# Extraer entidades nombradas\n",
    "named_entities = []\n",
    "for subtree in entities:\n",
    "    if isinstance(subtree, Tree):\n",
    "        entity_name = \" \".join(c[0] for c in subtree)\n",
    "        entity_type = subtree.label()\n",
    "        named_entities.append((entity_name, entity_type))"
   ]
  },
  {
   "cell_type": "code",
   "execution_count": 3,
   "id": "1ebbd5fb-3602-42ed-b372-87a811c7fbb9",
   "metadata": {},
   "outputs": [
    {
     "name": "stdout",
     "output_type": "stream",
     "text": [
      "Entidades reconocidas con NLTK:\n",
      "[('Barack', 'PERSON'), ('Obama', 'PERSON'), ('United States', 'GPE'), ('Washington', 'GPE')]\n"
     ]
    }
   ],
   "source": [
    "print(\"Entidades reconocidas con NLTK:\")\n",
    "print(named_entities)"
   ]
  },
  {
   "cell_type": "code",
   "execution_count": null,
   "id": "d0dd9fdd-0b7c-4603-a4da-a68e235e6672",
   "metadata": {},
   "outputs": [],
   "source": []
  }
 ],
 "metadata": {
  "kernelspec": {
   "display_name": "Python 3 (ipykernel)",
   "language": "python",
   "name": "python3"
  },
  "language_info": {
   "codemirror_mode": {
    "name": "ipython",
    "version": 3
   },
   "file_extension": ".py",
   "mimetype": "text/x-python",
   "name": "python",
   "nbconvert_exporter": "python",
   "pygments_lexer": "ipython3",
   "version": "3.12.6"
  }
 },
 "nbformat": 4,
 "nbformat_minor": 5
}
