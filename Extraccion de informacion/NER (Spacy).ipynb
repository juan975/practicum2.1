{
 "cells": [
  {
   "cell_type": "code",
   "execution_count": 1,
   "id": "7bf4b6f6-7ae2-424a-add0-25e8a0aae56a",
   "metadata": {},
   "outputs": [],
   "source": [
    "import spacy\n",
    "\n",
    "# Cargar el modelo de SpaCy\n",
    "nlp = spacy.load(\"en_core_web_sm\")"
   ]
  },
  {
   "cell_type": "code",
   "execution_count": 2,
   "id": "d0cfcf80-f772-4a28-86ae-2cad722d6e4c",
   "metadata": {},
   "outputs": [],
   "source": [
    "# Texto de ejemplo\n",
    "text = \"Barack Obama was the 44th President of the United States and lived in Washington, D.C.\"\n",
    "\n",
    "# Procesar el texto\n",
    "doc = nlp(text)"
   ]
  },
  {
   "cell_type": "code",
   "execution_count": 3,
   "id": "c26ada7a-74f2-49fa-b224-eb91314964e7",
   "metadata": {},
   "outputs": [
    {
     "name": "stdout",
     "output_type": "stream",
     "text": [
      "Entidades reconocidas con SpaCy:\n",
      "Barack Obama (PERSON)\n",
      "44th (ORDINAL)\n",
      "the United States (GPE)\n",
      "Washington (GPE)\n",
      "D.C. (GPE)\n"
     ]
    }
   ],
   "source": [
    "# Extraer entidades nombradas\n",
    "print(\"Entidades reconocidas con SpaCy:\")\n",
    "for ent in doc.ents:\n",
    "    print(f\"{ent.text} ({ent.label_})\")"
   ]
  },
  {
   "cell_type": "code",
   "execution_count": null,
   "id": "61cc9a89-d54a-4b5f-96f0-018fceaef193",
   "metadata": {},
   "outputs": [],
   "source": []
  }
 ],
 "metadata": {
  "kernelspec": {
   "display_name": "Python 3 (ipykernel)",
   "language": "python",
   "name": "python3"
  },
  "language_info": {
   "codemirror_mode": {
    "name": "ipython",
    "version": 3
   },
   "file_extension": ".py",
   "mimetype": "text/x-python",
   "name": "python",
   "nbconvert_exporter": "python",
   "pygments_lexer": "ipython3",
   "version": "3.12.6"
  }
 },
 "nbformat": 4,
 "nbformat_minor": 5
}
