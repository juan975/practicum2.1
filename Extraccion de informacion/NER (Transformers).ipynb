{
 "cells": [
  {
   "cell_type": "code",
   "execution_count": 1,
   "id": "22f20939-60c1-4cf3-980e-cd8c99697716",
   "metadata": {},
   "outputs": [
    {
     "name": "stderr",
     "output_type": "stream",
     "text": [
      "C:\\Users\\ASUS-R-STRIX\\OneDrive - Universidad Técnica Particular de Loja - UTPL\\Documentos\\UTPL\\Ciclo 5\\Pracxticum 2.1\\Ejercicios\\env1\\Lib\\site-packages\\tqdm\\auto.py:21: TqdmWarning: IProgress not found. Please update jupyter and ipywidgets. See https://ipywidgets.readthedocs.io/en/stable/user_install.html\n",
      "  from .autonotebook import tqdm as notebook_tqdm\n",
      "C:\\Users\\ASUS-R-STRIX\\OneDrive - Universidad Técnica Particular de Loja - UTPL\\Documentos\\UTPL\\Ciclo 5\\Pracxticum 2.1\\Ejercicios\\env1\\Lib\\site-packages\\huggingface_hub\\file_download.py:139: UserWarning: `huggingface_hub` cache-system uses symlinks by default to efficiently store duplicated files but your machine does not support them in C:\\Users\\ASUS-R-STRIX\\.cache\\huggingface\\hub\\models--dbmdz--bert-large-cased-finetuned-conll03-english. Caching files will still work but in a degraded version that might require more space on your disk. This warning can be disabled by setting the `HF_HUB_DISABLE_SYMLINKS_WARNING` environment variable. For more details, see https://huggingface.co/docs/huggingface_hub/how-to-cache#limitations.\n",
      "To support symlinks on Windows, you either need to activate Developer Mode or to run Python as an administrator. In order to activate developer mode, see this article: https://docs.microsoft.com/en-us/windows/apps/get-started/enable-your-device-for-development\n",
      "  warnings.warn(message)\n",
      "Some weights of the model checkpoint at dbmdz/bert-large-cased-finetuned-conll03-english were not used when initializing BertForTokenClassification: ['bert.pooler.dense.bias', 'bert.pooler.dense.weight']\n",
      "- This IS expected if you are initializing BertForTokenClassification from the checkpoint of a model trained on another task or with another architecture (e.g. initializing a BertForSequenceClassification model from a BertForPreTraining model).\n",
      "- This IS NOT expected if you are initializing BertForTokenClassification from the checkpoint of a model that you expect to be exactly identical (initializing a BertForSequenceClassification model from a BertForSequenceClassification model).\n",
      "Device set to use cpu\n"
     ]
    }
   ],
   "source": [
    "from transformers import pipeline\n",
    "\n",
    "# Cargar el pipeline de NER\n",
    "ner_pipeline = pipeline(\"ner\", model=\"dbmdz/bert-large-cased-finetuned-conll03-english\")"
   ]
  },
  {
   "cell_type": "code",
   "execution_count": 2,
   "id": "72439a1a-6aa1-40fe-80bd-b68113c30008",
   "metadata": {},
   "outputs": [],
   "source": [
    "# Texto de ejemplo\n",
    "text = \"Barack Obama was the 44th President of the United States and lived in Washington, D.C.\"\n",
    "\n",
    "# Realizar NER\n",
    "entities = ner_pipeline(text)"
   ]
  },
  {
   "cell_type": "code",
   "execution_count": 3,
   "id": "2f2b364f-7e70-4a54-9170-31651e01e9bb",
   "metadata": {},
   "outputs": [
    {
     "name": "stdout",
     "output_type": "stream",
     "text": [
      "Entidades reconocidas con Transformers:\n",
      "Barack (I-PER) - Score: 1.00\n",
      "Obama (I-PER) - Score: 1.00\n",
      "United (I-LOC) - Score: 1.00\n",
      "States (I-LOC) - Score: 0.99\n",
      "Washington (I-LOC) - Score: 1.00\n",
      "D (I-LOC) - Score: 1.00\n",
      "C (I-LOC) - Score: 1.00\n"
     ]
    }
   ],
   "source": [
    "print(\"Entidades reconocidas con Transformers:\")\n",
    "for entity in entities:\n",
    "    print(f\"{entity['word']} ({entity['entity']}) - Score: {entity['score']:.2f}\")"
   ]
  },
  {
   "cell_type": "code",
   "execution_count": null,
   "id": "2be277d8-db92-4fd9-be14-6f28be14bddc",
   "metadata": {},
   "outputs": [],
   "source": []
  }
 ],
 "metadata": {
  "kernelspec": {
   "display_name": "Python 3 (ipykernel)",
   "language": "python",
   "name": "python3"
  },
  "language_info": {
   "codemirror_mode": {
    "name": "ipython",
    "version": 3
   },
   "file_extension": ".py",
   "mimetype": "text/x-python",
   "name": "python",
   "nbconvert_exporter": "python",
   "pygments_lexer": "ipython3",
   "version": "3.12.6"
  }
 },
 "nbformat": 4,
 "nbformat_minor": 5
}
