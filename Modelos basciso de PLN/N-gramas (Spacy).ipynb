{
 "cells": [
  {
   "cell_type": "code",
   "execution_count": 1,
   "id": "ed8cc073-f956-42d9-8544-38ae431bdfcc",
   "metadata": {},
   "outputs": [],
   "source": [
    "import spacy\n",
    "\n",
    "# Carga SpaCy\n",
    "nlp = spacy.load(\"en_core_web_sm\")"
   ]
  },
  {
   "cell_type": "code",
   "execution_count": 2,
   "id": "c0ae0678-f9b3-4f42-b706-c7d7f1c622d9",
   "metadata": {},
   "outputs": [],
   "source": [
    "# Texto de ejemplo\n",
    "text = \"Natural Language Processing is fun\"\n",
    "\n",
    "# Procesar texto con SpaCy\n",
    "doc = nlp(text)\n",
    "\n",
    "# Generar bi-gramas\n",
    "bigrams = [\" \".join([doc[i].text, doc[i+1].text]) for i in range(len(doc)-1)]"
   ]
  },
  {
   "cell_type": "code",
   "execution_count": 3,
   "id": "93ab8ed2-788d-41c8-9c12-7c883c9d16a4",
   "metadata": {},
   "outputs": [
    {
     "name": "stdout",
     "output_type": "stream",
     "text": [
      "Bi-gramas con SpaCy: ['Natural Language', 'Language Processing', 'Processing is', 'is fun']\n"
     ]
    }
   ],
   "source": [
    "print(\"Bi-gramas con SpaCy:\", bigrams)"
   ]
  },
  {
   "cell_type": "code",
   "execution_count": null,
   "id": "313c98df-b1c4-47f6-8156-d49e0e3ba7a4",
   "metadata": {},
   "outputs": [],
   "source": []
  }
 ],
 "metadata": {
  "kernelspec": {
   "display_name": "Python 3 (ipykernel)",
   "language": "python",
   "name": "python3"
  },
  "language_info": {
   "codemirror_mode": {
    "name": "ipython",
    "version": 3
   },
   "file_extension": ".py",
   "mimetype": "text/x-python",
   "name": "python",
   "nbconvert_exporter": "python",
   "pygments_lexer": "ipython3",
   "version": "3.12.6"
  }
 },
 "nbformat": 4,
 "nbformat_minor": 5
}
