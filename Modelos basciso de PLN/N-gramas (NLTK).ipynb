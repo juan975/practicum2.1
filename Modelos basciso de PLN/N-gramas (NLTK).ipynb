{
 "cells": [
  {
   "cell_type": "code",
   "execution_count": 1,
   "id": "5738fa2b-6711-4434-b49c-58bc78b1f95f",
   "metadata": {},
   "outputs": [],
   "source": [
    "from nltk.util import ngrams"
   ]
  },
  {
   "cell_type": "code",
   "execution_count": 2,
   "id": "3c5cb23c-ee70-461b-b8b7-ee1127ce3cae",
   "metadata": {},
   "outputs": [],
   "source": [
    "# Texto de ejemplo\n",
    "text = \"Natural Language Processing is fun\"\n",
    "\n",
    "# Tokenización\n",
    "tokens = text.split()\n",
    "\n",
    "# Generar n-gramas (bi-gramas en este caso)\n",
    "bigrams = list(ngrams(tokens, 2))"
   ]
  },
  {
   "cell_type": "code",
   "execution_count": 3,
   "id": "fc41ebc1-0cd0-476e-84c6-7217ad56fadd",
   "metadata": {},
   "outputs": [
    {
     "name": "stdout",
     "output_type": "stream",
     "text": [
      "Bi-gramas con NLTK: [('Natural', 'Language'), ('Language', 'Processing'), ('Processing', 'is'), ('is', 'fun')]\n"
     ]
    }
   ],
   "source": [
    "print(\"Bi-gramas con NLTK:\", bigrams)"
   ]
  },
  {
   "cell_type": "code",
   "execution_count": null,
   "id": "aab721dd-f56c-4856-b6cb-e60152ea1e8b",
   "metadata": {},
   "outputs": [],
   "source": []
  }
 ],
 "metadata": {
  "kernelspec": {
   "display_name": "Python 3 (ipykernel)",
   "language": "python",
   "name": "python3"
  },
  "language_info": {
   "codemirror_mode": {
    "name": "ipython",
    "version": 3
   },
   "file_extension": ".py",
   "mimetype": "text/x-python",
   "name": "python",
   "nbconvert_exporter": "python",
   "pygments_lexer": "ipython3",
   "version": "3.12.6"
  }
 },
 "nbformat": 4,
 "nbformat_minor": 5
}
