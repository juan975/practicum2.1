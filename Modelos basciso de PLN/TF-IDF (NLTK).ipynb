{
 "cells": [
  {
   "cell_type": "code",
   "execution_count": 1,
   "id": "bca43b8c-d559-4bce-9254-6861ba762f83",
   "metadata": {},
   "outputs": [],
   "source": [
    "from sklearn.feature_extraction.text import TfidfVectorizer"
   ]
  },
  {
   "cell_type": "code",
   "execution_count": 2,
   "id": "481de4af-b39f-4612-a4d4-dafb96faa211",
   "metadata": {},
   "outputs": [],
   "source": [
    "# Texto de ejemplo\n",
    "texts = [\n",
    "    \"Natural Language Processing is fun\",\n",
    "    \"I love learning about NLP\",\n",
    "    \"Language models are great for text analysis\"\n",
    "]\n",
    "\n",
    "# Crear el vectorizador de TF-IDF\n",
    "tfidf_vectorizer = TfidfVectorizer()\n",
    "\n",
    "# Ajustar y transformar los textos\n",
    "tfidf_matrix = tfidf_vectorizer.fit_transform(texts)"
   ]
  },
  {
   "cell_type": "code",
   "execution_count": 3,
   "id": "ffac7a3a-bcaa-4f23-bdb1-3cb5e06b58fd",
   "metadata": {},
   "outputs": [
    {
     "name": "stdout",
     "output_type": "stream",
     "text": [
      "Vocabulario: {'natural': 11, 'language': 7, 'processing': 13, 'is': 6, 'fun': 4, 'love': 9, 'learning': 8, 'about': 0, 'nlp': 12, 'models': 10, 'are': 2, 'great': 5, 'for': 3, 'text': 14, 'analysis': 1}\n",
      "Matriz TF-IDF:\n",
      "[[0.         0.         0.         0.         0.46735098 0.\n",
      "  0.46735098 0.35543247 0.         0.         0.         0.46735098\n",
      "  0.         0.46735098 0.        ]\n",
      " [0.5        0.         0.         0.         0.         0.\n",
      "  0.         0.         0.5        0.5        0.         0.\n",
      "  0.5        0.         0.        ]\n",
      " [0.         0.38988801 0.38988801 0.38988801 0.         0.38988801\n",
      "  0.         0.29651988 0.         0.         0.38988801 0.\n",
      "  0.         0.         0.38988801]]\n"
     ]
    }
   ],
   "source": [
    "# Mostrar el vocabulario y la matriz\n",
    "print(\"Vocabulario:\", tfidf_vectorizer.vocabulary_)\n",
    "print(\"Matriz TF-IDF:\")\n",
    "print(tfidf_matrix.toarray())"
   ]
  },
  {
   "cell_type": "code",
   "execution_count": null,
   "id": "fc39fc4f-d105-4cf1-8c0a-e85d4bc7ad64",
   "metadata": {},
   "outputs": [],
   "source": []
  }
 ],
 "metadata": {
  "kernelspec": {
   "display_name": "Python 3 (ipykernel)",
   "language": "python",
   "name": "python3"
  },
  "language_info": {
   "codemirror_mode": {
    "name": "ipython",
    "version": 3
   },
   "file_extension": ".py",
   "mimetype": "text/x-python",
   "name": "python",
   "nbconvert_exporter": "python",
   "pygments_lexer": "ipython3",
   "version": "3.12.6"
  }
 },
 "nbformat": 4,
 "nbformat_minor": 5
}
