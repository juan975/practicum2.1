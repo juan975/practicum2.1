{
 "cells": [
  {
   "cell_type": "code",
   "execution_count": 1,
   "id": "0e5a025a-14bb-4d6f-ac98-19a8fd2f397d",
   "metadata": {},
   "outputs": [
    {
     "name": "stderr",
     "output_type": "stream",
     "text": [
      "C:\\Users\\ASUS-R-STRIX\\OneDrive - Universidad Técnica Particular de Loja - UTPL\\Documentos\\UTPL\\Ciclo 5\\Pracxticum 2.1\\Ejercicios\\env1\\Lib\\site-packages\\tqdm\\auto.py:21: TqdmWarning: IProgress not found. Please update jupyter and ipywidgets. See https://ipywidgets.readthedocs.io/en/stable/user_install.html\n",
      "  from .autonotebook import tqdm as notebook_tqdm\n"
     ]
    }
   ],
   "source": [
    "from transformers import BertTokenizer\n",
    "from sklearn.feature_extraction.text import TfidfVectorizer"
   ]
  },
  {
   "cell_type": "code",
   "execution_count": 2,
   "id": "a4dd1faf-6d1a-4207-ba0f-b3528a984117",
   "metadata": {},
   "outputs": [],
   "source": [
    "# Inicializar el tokenizador\n",
    "tokenizer = BertTokenizer.from_pretrained(\"bert-base-uncased\")\n",
    "\n",
    "# Texto de ejemplo\n",
    "texts = [\n",
    "    \"Natural Language Processing is fun\",\n",
    "    \"I love learning about NLP\",\n",
    "    \"Language models are great for text analysis\"\n",
    "]\n",
    "\n",
    "# Tokenización básica\n",
    "tokenized_texts = [\" \".join(tokenizer.tokenize(text)) for text in texts]\n",
    "\n",
    "# Vectorización con TF-IDF\n",
    "tfidf_vectorizer = TfidfVectorizer()\n",
    "tfidf_matrix = tfidf_vectorizer.fit_transform(tokenized_texts)"
   ]
  },
  {
   "cell_type": "code",
   "execution_count": 3,
   "id": "6cf1b5b0-cf55-4f9a-b5d1-09041a912416",
   "metadata": {},
   "outputs": [
    {
     "name": "stdout",
     "output_type": "stream",
     "text": [
      "Vocabulario: {'natural': 11, 'language': 7, 'processing': 13, 'is': 6, 'fun': 4, 'love': 9, 'learning': 8, 'about': 0, 'nl': 12, 'models': 10, 'are': 2, 'great': 5, 'for': 3, 'text': 14, 'analysis': 1}\n",
      "Matriz TF-IDF:\n",
      "[[0.         0.         0.         0.         0.46735098 0.\n",
      "  0.46735098 0.35543247 0.         0.         0.         0.46735098\n",
      "  0.         0.46735098 0.        ]\n",
      " [0.5        0.         0.         0.         0.         0.\n",
      "  0.         0.         0.5        0.5        0.         0.\n",
      "  0.5        0.         0.        ]\n",
      " [0.         0.38988801 0.38988801 0.38988801 0.         0.38988801\n",
      "  0.         0.29651988 0.         0.         0.38988801 0.\n",
      "  0.         0.         0.38988801]]\n"
     ]
    }
   ],
   "source": [
    "print(\"Vocabulario:\", tfidf_vectorizer.vocabulary_)\n",
    "print(\"Matriz TF-IDF:\")\n",
    "print(tfidf_matrix.toarray())"
   ]
  },
  {
   "cell_type": "code",
   "execution_count": null,
   "id": "43213232-9820-4c86-96d0-9a854da84bd0",
   "metadata": {},
   "outputs": [],
   "source": []
  }
 ],
 "metadata": {
  "kernelspec": {
   "display_name": "Python 3 (ipykernel)",
   "language": "python",
   "name": "python3"
  },
  "language_info": {
   "codemirror_mode": {
    "name": "ipython",
    "version": 3
   },
   "file_extension": ".py",
   "mimetype": "text/x-python",
   "name": "python",
   "nbconvert_exporter": "python",
   "pygments_lexer": "ipython3",
   "version": "3.12.6"
  }
 },
 "nbformat": 4,
 "nbformat_minor": 5
}
