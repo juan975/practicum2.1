{
 "cells": [
  {
   "cell_type": "code",
   "execution_count": 1,
   "id": "4ce549b2-5dd1-4a06-bc70-6242d2eaa7da",
   "metadata": {},
   "outputs": [],
   "source": [
    "from sklearn.feature_extraction.text import CountVectorizer\n",
    "import spacy"
   ]
  },
  {
   "cell_type": "code",
   "execution_count": 2,
   "id": "419fed3b-c20b-4d81-8d81-b8643b02c807",
   "metadata": {},
   "outputs": [],
   "source": [
    "# Carga SpaCy\n",
    "nlp = spacy.load(\"en_core_web_sm\")\n",
    "\n",
    "# Texto de ejemplo\n",
    "texts = [\n",
    "    \"Natural Language Processing is fun\",\n",
    "    \"I love learning about NLP\",\n",
    "    \"Language models are great for text analysis\"\n",
    "]\n",
    "\n",
    "# Procesar texto con SpaCy\n",
    "processed_texts = [\" \".join([token.lemma_ for token in nlp(doc) if not token.is_stop]) for doc in texts]\n",
    "\n",
    "# Vectorización con BoW\n",
    "vectorizer = CountVectorizer()\n",
    "bow_matrix = vectorizer.fit_transform(processed_texts)"
   ]
  },
  {
   "cell_type": "code",
   "execution_count": 3,
   "id": "33205de3-cb6f-4fa3-9a52-5f3003fa3f29",
   "metadata": {},
   "outputs": [
    {
     "name": "stdout",
     "output_type": "stream",
     "text": [
      "Vocabulario: {'natural': 7, 'language': 3, 'processing': 9, 'fun': 1, 'love': 5, 'learn': 4, 'nlp': 8, 'model': 6, 'great': 2, 'text': 10, 'analysis': 0}\n",
      "Matriz BoW:\n",
      "[[0 1 0 1 0 0 0 1 0 1 0]\n",
      " [0 0 0 0 1 1 0 0 1 0 0]\n",
      " [1 0 1 1 0 0 1 0 0 0 1]]\n"
     ]
    }
   ],
   "source": [
    "print(\"Vocabulario:\", vectorizer.vocabulary_)\n",
    "print(\"Matriz BoW:\")\n",
    "print(bow_matrix.toarray())"
   ]
  },
  {
   "cell_type": "code",
   "execution_count": null,
   "id": "1b5b80c7-0932-4162-88dd-9a6167fe3f39",
   "metadata": {},
   "outputs": [],
   "source": []
  }
 ],
 "metadata": {
  "kernelspec": {
   "display_name": "Python 3 (ipykernel)",
   "language": "python",
   "name": "python3"
  },
  "language_info": {
   "codemirror_mode": {
    "name": "ipython",
    "version": 3
   },
   "file_extension": ".py",
   "mimetype": "text/x-python",
   "name": "python",
   "nbconvert_exporter": "python",
   "pygments_lexer": "ipython3",
   "version": "3.12.6"
  }
 },
 "nbformat": 4,
 "nbformat_minor": 5
}
