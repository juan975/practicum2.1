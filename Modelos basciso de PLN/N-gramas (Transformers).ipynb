{
 "cells": [
  {
   "cell_type": "code",
   "execution_count": 1,
   "id": "4653b025-9e34-42a9-b150-197a6c4515d2",
   "metadata": {},
   "outputs": [
    {
     "name": "stderr",
     "output_type": "stream",
     "text": [
      "C:\\Users\\ASUS-R-STRIX\\OneDrive - Universidad Técnica Particular de Loja - UTPL\\Documentos\\UTPL\\Ciclo 5\\Pracxticum 2.1\\Ejercicios\\env1\\Lib\\site-packages\\tqdm\\auto.py:21: TqdmWarning: IProgress not found. Please update jupyter and ipywidgets. See https://ipywidgets.readthedocs.io/en/stable/user_install.html\n",
      "  from .autonotebook import tqdm as notebook_tqdm\n"
     ]
    }
   ],
   "source": [
    "from transformers import BertTokenizer\n",
    "from nltk.util import ngrams"
   ]
  },
  {
   "cell_type": "code",
   "execution_count": 2,
   "id": "82024f25-a4a2-4194-b026-7fe6ec25edf3",
   "metadata": {},
   "outputs": [],
   "source": [
    "# Inicializar el tokenizador\n",
    "tokenizer = BertTokenizer.from_pretrained(\"bert-base-uncased\")\n",
    "\n",
    "# Texto de ejemplo\n",
    "text = \"Natural Language Processing is fun\"\n",
    "\n",
    "# Tokenización básica\n",
    "tokens = tokenizer.tokenize(text)\n",
    "\n",
    "# Generar n-gramas (bi-gramas en este caso)\n",
    "bigrams = list(ngrams(tokens, 2))"
   ]
  },
  {
   "cell_type": "code",
   "execution_count": 3,
   "id": "817ade9a-7eab-43f7-8aec-708752b96b4a",
   "metadata": {},
   "outputs": [
    {
     "name": "stdout",
     "output_type": "stream",
     "text": [
      "Bi-gramas con Transformers: [('natural', 'language'), ('language', 'processing'), ('processing', 'is'), ('is', 'fun')]\n"
     ]
    }
   ],
   "source": [
    "print(\"Bi-gramas con Transformers:\", bigrams)"
   ]
  },
  {
   "cell_type": "code",
   "execution_count": null,
   "id": "570b8416-0d33-4f84-a1fa-7c332c768c67",
   "metadata": {},
   "outputs": [],
   "source": []
  }
 ],
 "metadata": {
  "kernelspec": {
   "display_name": "Python 3 (ipykernel)",
   "language": "python",
   "name": "python3"
  },
  "language_info": {
   "codemirror_mode": {
    "name": "ipython",
    "version": 3
   },
   "file_extension": ".py",
   "mimetype": "text/x-python",
   "name": "python",
   "nbconvert_exporter": "python",
   "pygments_lexer": "ipython3",
   "version": "3.12.6"
  }
 },
 "nbformat": 4,
 "nbformat_minor": 5
}
