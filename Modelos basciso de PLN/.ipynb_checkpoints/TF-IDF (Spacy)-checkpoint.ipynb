{
 "cells": [
  {
   "cell_type": "code",
   "execution_count": 1,
   "id": "9501c612-0f16-4d4d-b136-e7af8f063841",
   "metadata": {},
   "outputs": [],
   "source": [
    "from sklearn.feature_extraction.text import TfidfVectorizer\n",
    "import spacy\n",
    "\n",
    "# Carga SpaCy\n",
    "nlp = spacy.load(\"en_core_web_sm\")"
   ]
  },
  {
   "cell_type": "code",
   "execution_count": 2,
   "id": "357f999a-1e8b-4589-9fda-6642371901ad",
   "metadata": {},
   "outputs": [],
   "source": [
    "# Texto de ejemplo\n",
    "texts = [\n",
    "    \"Natural Language Processing is fun\",\n",
    "    \"I love learning about NLP\",\n",
    "    \"Language models are great for text analysis\"\n",
    "]\n",
    "\n",
    "# Procesar texto con SpaCy\n",
    "processed_texts = [\" \".join([token.lemma_ for token in nlp(doc) if not token.is_stop]) for doc in texts]\n",
    "\n",
    "# Vectorización con TF-IDF\n",
    "tfidf_vectorizer = TfidfVectorizer()\n",
    "tfidf_matrix = tfidf_vectorizer.fit_transform(processed_texts)"
   ]
  },
  {
   "cell_type": "code",
   "execution_count": 3,
   "id": "2ba903ec-aba7-4aff-937c-a977b3bc32b7",
   "metadata": {},
   "outputs": [
    {
     "name": "stdout",
     "output_type": "stream",
     "text": [
      "Vocabulario: {'natural': 7, 'language': 3, 'processing': 9, 'fun': 1, 'love': 5, 'learn': 4, 'nlp': 8, 'model': 6, 'great': 2, 'text': 10, 'analysis': 0}\n",
      "Matriz TF-IDF:\n",
      "[[0.         0.52863461 0.         0.40204024 0.         0.\n",
      "  0.         0.52863461 0.         0.52863461 0.        ]\n",
      " [0.         0.         0.         0.         0.57735027 0.57735027\n",
      "  0.         0.         0.57735027 0.         0.        ]\n",
      " [0.46735098 0.         0.46735098 0.35543247 0.         0.\n",
      "  0.46735098 0.         0.         0.         0.46735098]]\n"
     ]
    }
   ],
   "source": [
    "print(\"Vocabulario:\", tfidf_vectorizer.vocabulary_)\n",
    "print(\"Matriz TF-IDF:\")\n",
    "print(tfidf_matrix.toarray())"
   ]
  },
  {
   "cell_type": "code",
   "execution_count": null,
   "id": "bd956dfa-5b19-4db0-ad2f-443c06f09576",
   "metadata": {},
   "outputs": [],
   "source": []
  }
 ],
 "metadata": {
  "kernelspec": {
   "display_name": "Python 3 (ipykernel)",
   "language": "python",
   "name": "python3"
  },
  "language_info": {
   "codemirror_mode": {
    "name": "ipython",
    "version": 3
   },
   "file_extension": ".py",
   "mimetype": "text/x-python",
   "name": "python",
   "nbconvert_exporter": "python",
   "pygments_lexer": "ipython3",
   "version": "3.12.6"
  }
 },
 "nbformat": 4,
 "nbformat_minor": 5
}
