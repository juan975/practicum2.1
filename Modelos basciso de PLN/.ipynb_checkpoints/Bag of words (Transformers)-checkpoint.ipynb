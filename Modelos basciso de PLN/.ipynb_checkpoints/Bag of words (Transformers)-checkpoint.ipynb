{
 "cells": [
  {
   "cell_type": "code",
   "execution_count": 1,
   "id": "7dff689c-28f4-419b-b2b2-ba334da7849f",
   "metadata": {},
   "outputs": [
    {
     "name": "stderr",
     "output_type": "stream",
     "text": [
      "C:\\Users\\ASUS-R-STRIX\\OneDrive - Universidad Técnica Particular de Loja - UTPL\\Documentos\\UTPL\\Ciclo 5\\Pracxticum 2.1\\Ejercicios\\env1\\Lib\\site-packages\\tqdm\\auto.py:21: TqdmWarning: IProgress not found. Please update jupyter and ipywidgets. See https://ipywidgets.readthedocs.io/en/stable/user_install.html\n",
      "  from .autonotebook import tqdm as notebook_tqdm\n"
     ]
    }
   ],
   "source": [
    "from transformers import BertTokenizer\n",
    "from sklearn.feature_extraction.text import CountVectorizer"
   ]
  },
  {
   "cell_type": "code",
   "execution_count": 2,
   "id": "0e8923da-8bf1-48b6-af47-0b1ab5a7caba",
   "metadata": {},
   "outputs": [],
   "source": [
    "# Inicializar el tokenizador\n",
    "tokenizer = BertTokenizer.from_pretrained(\"bert-base-uncased\")\n",
    "\n",
    "# Texto de ejemplo\n",
    "texts = [\n",
    "    \"Natural Language Processing is fun\",\n",
    "    \"I love learning about NLP\",\n",
    "    \"Language models are great for text analysis\"\n",
    "]\n",
    "\n",
    "# Tokenización básica\n",
    "tokenized_texts = [\" \".join(tokenizer.tokenize(text)) for text in texts]\n",
    "\n",
    "# Vectorización con BoW\n",
    "vectorizer = CountVectorizer()\n",
    "bow_matrix = vectorizer.fit_transform(tokenized_texts)"
   ]
  },
  {
   "cell_type": "code",
   "execution_count": 3,
   "id": "c84bbc44-a67d-4658-828e-69e49fd11001",
   "metadata": {},
   "outputs": [
    {
     "name": "stdout",
     "output_type": "stream",
     "text": [
      "Vocabulario: {'natural': 11, 'language': 7, 'processing': 13, 'is': 6, 'fun': 4, 'love': 9, 'learning': 8, 'about': 0, 'nl': 12, 'models': 10, 'are': 2, 'great': 5, 'for': 3, 'text': 14, 'analysis': 1}\n",
      "Matriz BoW:\n",
      "[[0 0 0 0 1 0 1 1 0 0 0 1 0 1 0]\n",
      " [1 0 0 0 0 0 0 0 1 1 0 0 1 0 0]\n",
      " [0 1 1 1 0 1 0 1 0 0 1 0 0 0 1]]\n"
     ]
    }
   ],
   "source": [
    "print(\"Vocabulario:\", vectorizer.vocabulary_)\n",
    "print(\"Matriz BoW:\")\n",
    "print(bow_matrix.toarray())"
   ]
  },
  {
   "cell_type": "code",
   "execution_count": null,
   "id": "455625ee-7805-450f-95ba-a4736db56375",
   "metadata": {},
   "outputs": [],
   "source": []
  }
 ],
 "metadata": {
  "kernelspec": {
   "display_name": "Python 3 (ipykernel)",
   "language": "python",
   "name": "python3"
  },
  "language_info": {
   "codemirror_mode": {
    "name": "ipython",
    "version": 3
   },
   "file_extension": ".py",
   "mimetype": "text/x-python",
   "name": "python",
   "nbconvert_exporter": "python",
   "pygments_lexer": "ipython3",
   "version": "3.12.6"
  }
 },
 "nbformat": 4,
 "nbformat_minor": 5
}
