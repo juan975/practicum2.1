{
 "cells": [
  {
   "cell_type": "code",
   "execution_count": 1,
   "id": "59c7a464-7561-4806-834d-a082f4a8ed34",
   "metadata": {},
   "outputs": [],
   "source": [
    "from sklearn.feature_extraction.text import CountVectorizer"
   ]
  },
  {
   "cell_type": "code",
   "execution_count": 2,
   "id": "6f01682c-ed2f-45cf-92e6-d9e91950d580",
   "metadata": {},
   "outputs": [],
   "source": [
    "# Texto de ejemplo\n",
    "texts = [\n",
    "    \"Natural Language Processing is fun\",\n",
    "    \"I love learning about NLP\",\n",
    "    \"Language models are great for text analysis\"\n",
    "]\n",
    "\n",
    "# Crear el vectorizador de BoW\n",
    "vectorizer = CountVectorizer()\n",
    "\n",
    "# Ajustar y transformar los textos\n",
    "bow_matrix = vectorizer.fit_transform(texts)"
   ]
  },
  {
   "cell_type": "code",
   "execution_count": 3,
   "id": "f6018f61-d052-40d7-b247-0bf32e62fd7e",
   "metadata": {},
   "outputs": [
    {
     "name": "stdout",
     "output_type": "stream",
     "text": [
      "Vocabulario: {'natural': 11, 'language': 7, 'processing': 13, 'is': 6, 'fun': 4, 'love': 9, 'learning': 8, 'about': 0, 'nlp': 12, 'models': 10, 'are': 2, 'great': 5, 'for': 3, 'text': 14, 'analysis': 1}\n",
      "Matriz BoW:\n",
      "[[0 0 0 0 1 0 1 1 0 0 0 1 0 1 0]\n",
      " [1 0 0 0 0 0 0 0 1 1 0 0 1 0 0]\n",
      " [0 1 1 1 0 1 0 1 0 0 1 0 0 0 1]]\n"
     ]
    }
   ],
   "source": [
    "# Mostrar el vocabulario y la matriz\n",
    "print(\"Vocabulario:\", vectorizer.vocabulary_)\n",
    "print(\"Matriz BoW:\")\n",
    "print(bow_matrix.toarray())"
   ]
  },
  {
   "cell_type": "code",
   "execution_count": null,
   "id": "b5b82678-502f-4b7c-aedb-9eeeaa3f7650",
   "metadata": {},
   "outputs": [],
   "source": []
  }
 ],
 "metadata": {
  "kernelspec": {
   "display_name": "Python 3 (ipykernel)",
   "language": "python",
   "name": "python3"
  },
  "language_info": {
   "codemirror_mode": {
    "name": "ipython",
    "version": 3
   },
   "file_extension": ".py",
   "mimetype": "text/x-python",
   "name": "python",
   "nbconvert_exporter": "python",
   "pygments_lexer": "ipython3",
   "version": "3.12.6"
  }
 },
 "nbformat": 4,
 "nbformat_minor": 5
}
