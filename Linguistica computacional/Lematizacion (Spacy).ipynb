{
 "cells": [
  {
   "cell_type": "code",
   "execution_count": 1,
   "id": "8c2de627-7d1a-4d2a-b3a7-b3b68042c5b0",
   "metadata": {},
   "outputs": [],
   "source": [
    "import spacy"
   ]
  },
  {
   "cell_type": "code",
   "execution_count": 2,
   "id": "44a7d2f9-b7fc-43d5-874e-d12536fc8003",
   "metadata": {},
   "outputs": [],
   "source": [
    "# Carga el modelo de SpaCy\n",
    "nlp = spacy.load(\"en_core_web_sm\")"
   ]
  },
  {
   "cell_type": "code",
   "execution_count": 3,
   "id": "5e39d3f7-3201-4ed7-ba0b-5a5a6aea8ed1",
   "metadata": {},
   "outputs": [],
   "source": [
    "text = \"Running runners easily ran towards the running tracks.\"\n",
    "doc = nlp(text)"
   ]
  },
  {
   "cell_type": "code",
   "execution_count": 4,
   "id": "087976dd-fcab-41a4-8013-e744d4e387f0",
   "metadata": {},
   "outputs": [
    {
     "name": "stdout",
     "output_type": "stream",
     "text": [
      "Lematización con SpaCy:\n",
      "Running -> run\n",
      "runners -> runner\n",
      "easily -> easily\n",
      "ran -> run\n",
      "towards -> towards\n",
      "the -> the\n",
      "running -> run\n",
      "tracks -> track\n",
      ". -> .\n"
     ]
    }
   ],
   "source": [
    "print(\"Lematización con SpaCy:\")\n",
    "for token in doc:\n",
    "    print(f\"{token.text} -> {token.lemma_}\")"
   ]
  },
  {
   "cell_type": "code",
   "execution_count": null,
   "id": "ee958dbd-8e5d-4f0b-be21-7df1200cbbbf",
   "metadata": {},
   "outputs": [],
   "source": []
  }
 ],
 "metadata": {
  "kernelspec": {
   "display_name": "Python 3 (ipykernel)",
   "language": "python",
   "name": "python3"
  },
  "language_info": {
   "codemirror_mode": {
    "name": "ipython",
    "version": 3
   },
   "file_extension": ".py",
   "mimetype": "text/x-python",
   "name": "python",
   "nbconvert_exporter": "python",
   "pygments_lexer": "ipython3",
   "version": "3.12.6"
  }
 },
 "nbformat": 4,
 "nbformat_minor": 5
}
