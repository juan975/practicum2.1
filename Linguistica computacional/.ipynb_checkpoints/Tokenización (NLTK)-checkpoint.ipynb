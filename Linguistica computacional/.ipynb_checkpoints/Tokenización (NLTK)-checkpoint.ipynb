{
 "cells": [
  {
   "cell_type": "code",
   "execution_count": 1,
   "id": "93f7c9d4-b8b5-4300-9ae6-c635f4de268e",
   "metadata": {},
   "outputs": [
    {
     "name": "stderr",
     "output_type": "stream",
     "text": [
      "[nltk_data] Downloading package punkt to C:\\Users\\ASUS-R-\n",
      "[nltk_data]     STRIX\\AppData\\Roaming\\nltk_data...\n",
      "[nltk_data]   Package punkt is already up-to-date!\n"
     ]
    },
    {
     "data": {
      "text/plain": [
       "True"
      ]
     },
     "execution_count": 1,
     "metadata": {},
     "output_type": "execute_result"
    }
   ],
   "source": [
    "from nltk.tokenize import word_tokenize, sent_tokenize\n",
    "import nltk\n",
    "nltk.download(\"punkt\")  # Necesario para descargar los datos de tokenización de NLTK"
   ]
  },
  {
   "cell_type": "code",
   "execution_count": 2,
   "id": "8f23a8c1-b9a3-4dcb-a1ac-c2772c7c9618",
   "metadata": {},
   "outputs": [],
   "source": [
    "text = \"Tokenization is crucial in Natural Language Processing. It helps in text preprocessing.\""
   ]
  },
  {
   "cell_type": "code",
   "execution_count": 3,
   "id": "602e6395-548e-4807-961b-dace6aeb938f",
   "metadata": {},
   "outputs": [
    {
     "name": "stdout",
     "output_type": "stream",
     "text": [
      "Tokens de palabras con NLTK: ['Tokenization', 'is', 'crucial', 'in', 'Natural', 'Language', 'Processing', '.', 'It', 'helps', 'in', 'text', 'preprocessing', '.']\n"
     ]
    }
   ],
   "source": [
    "# Tokenización de palabras\n",
    "word_tokens = word_tokenize(text)\n",
    "print(\"Tokens de palabras con NLTK:\", word_tokens)"
   ]
  },
  {
   "cell_type": "code",
   "execution_count": null,
   "id": "32837c16-5f20-4e6f-9f11-3c4f43c831c4",
   "metadata": {},
   "outputs": [],
   "source": []
  }
 ],
 "metadata": {
  "kernelspec": {
   "display_name": "Python 3 (ipykernel)",
   "language": "python",
   "name": "python3"
  },
  "language_info": {
   "codemirror_mode": {
    "name": "ipython",
    "version": 3
   },
   "file_extension": ".py",
   "mimetype": "text/x-python",
   "name": "python",
   "nbconvert_exporter": "python",
   "pygments_lexer": "ipython3",
   "version": "3.12.6"
  }
 },
 "nbformat": 4,
 "nbformat_minor": 5
}
