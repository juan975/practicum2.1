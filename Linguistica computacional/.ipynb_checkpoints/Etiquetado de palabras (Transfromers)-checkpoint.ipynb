{
 "cells": [
  {
   "cell_type": "code",
   "execution_count": 1,
   "id": "28ee928f-f786-4dc1-beb4-bbafa65d2a2c",
   "metadata": {},
   "outputs": [
    {
     "name": "stderr",
     "output_type": "stream",
     "text": [
      "C:\\Users\\ASUS-R-STRIX\\OneDrive - Universidad Técnica Particular de Loja - UTPL\\Documentos\\UTPL\\Ciclo 5\\Pracxticum 2.1\\Ejercicios\\env1\\Lib\\site-packages\\tqdm\\auto.py:21: TqdmWarning: IProgress not found. Please update jupyter and ipywidgets. See https://ipywidgets.readthedocs.io/en/stable/user_install.html\n",
      "  from .autonotebook import tqdm as notebook_tqdm\n"
     ]
    }
   ],
   "source": [
    "from transformers import pipeline"
   ]
  },
  {
   "cell_type": "code",
   "execution_count": 2,
   "id": "bb4ec66d-a2e4-43ed-b9a6-c62f939c1354",
   "metadata": {},
   "outputs": [
    {
     "name": "stderr",
     "output_type": "stream",
     "text": [
      "Some weights of the model checkpoint at vblagoje/bert-english-uncased-finetuned-pos were not used when initializing BertForTokenClassification: ['bert.pooler.dense.bias', 'bert.pooler.dense.weight']\n",
      "- This IS expected if you are initializing BertForTokenClassification from the checkpoint of a model trained on another task or with another architecture (e.g. initializing a BertForSequenceClassification model from a BertForPreTraining model).\n",
      "- This IS NOT expected if you are initializing BertForTokenClassification from the checkpoint of a model that you expect to be exactly identical (initializing a BertForSequenceClassification model from a BertForSequenceClassification model).\n",
      "Device set to use cpu\n"
     ]
    }
   ],
   "source": [
    "# Cargamos un pipeline de etiquetado POS\n",
    "pos_tagger = pipeline(\"ner\", model=\"vblagoje/bert-english-uncased-finetuned-pos\")\n",
    "\n",
    "text = \"The quick brown fox jumps over the lazy dog.\"\n",
    "results = pos_tagger(text)"
   ]
  },
  {
   "cell_type": "code",
   "execution_count": 3,
   "id": "0c6c30fd-c564-44f9-90c4-e8c7ae98797b",
   "metadata": {},
   "outputs": [
    {
     "name": "stdout",
     "output_type": "stream",
     "text": [
      "Etiquetado POS con Hugging Face Transformers:\n",
      "the: DET\n",
      "quick: ADJ\n",
      "brown: ADJ\n",
      "fox: NOUN\n",
      "jumps: VERB\n",
      "over: ADP\n",
      "the: DET\n",
      "lazy: ADJ\n",
      "dog: NOUN\n",
      ".: PUNCT\n"
     ]
    }
   ],
   "source": [
    "print(\"Etiquetado POS con Hugging Face Transformers:\")\n",
    "for result in results:\n",
    "    print(f\"{result['word']}: {result['entity']}\")"
   ]
  },
  {
   "cell_type": "code",
   "execution_count": null,
   "id": "40054b13-1179-40e0-9745-5586237599e0",
   "metadata": {},
   "outputs": [],
   "source": []
  }
 ],
 "metadata": {
  "kernelspec": {
   "display_name": "Python 3 (ipykernel)",
   "language": "python",
   "name": "python3"
  },
  "language_info": {
   "codemirror_mode": {
    "name": "ipython",
    "version": 3
   },
   "file_extension": ".py",
   "mimetype": "text/x-python",
   "name": "python",
   "nbconvert_exporter": "python",
   "pygments_lexer": "ipython3",
   "version": "3.12.6"
  }
 },
 "nbformat": 4,
 "nbformat_minor": 5
}
