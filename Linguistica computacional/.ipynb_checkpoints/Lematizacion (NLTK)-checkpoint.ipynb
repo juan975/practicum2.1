{
 "cells": [
  {
   "cell_type": "code",
   "execution_count": 1,
   "id": "df056680-783f-4a00-bbf0-c0e9583e25f6",
   "metadata": {},
   "outputs": [],
   "source": [
    "from nltk.stem import WordNetLemmatizer\n",
    "from nltk.corpus import wordnet\n",
    "import nltk"
   ]
  },
  {
   "cell_type": "code",
   "execution_count": 2,
   "id": "c1c79ee5-1eee-4100-8b88-a4ed19503093",
   "metadata": {},
   "outputs": [
    {
     "name": "stderr",
     "output_type": "stream",
     "text": [
      "[nltk_data] Downloading package wordnet to C:\\Users\\ASUS-R-\n",
      "[nltk_data]     STRIX\\AppData\\Roaming\\nltk_data...\n",
      "[nltk_data] Downloading package omw-1.4 to C:\\Users\\ASUS-R-\n",
      "[nltk_data]     STRIX\\AppData\\Roaming\\nltk_data...\n"
     ]
    },
    {
     "data": {
      "text/plain": [
       "True"
      ]
     },
     "execution_count": 2,
     "metadata": {},
     "output_type": "execute_result"
    }
   ],
   "source": [
    "nltk.download(\"wordnet\")\n",
    "nltk.download(\"omw-1.4\")"
   ]
  },
  {
   "cell_type": "code",
   "execution_count": 3,
   "id": "f52314d9-2e62-422d-b57b-2ad3ac6b77fe",
   "metadata": {},
   "outputs": [],
   "source": [
    "lemmatizer = WordNetLemmatizer()\n",
    "words = [\"running\", \"runner\", \"ran\", \"easily\", \"fairly\"]"
   ]
  },
  {
   "cell_type": "code",
   "execution_count": 4,
   "id": "5a08bb84-8692-4c39-96ad-4a2de7d2e9c9",
   "metadata": {},
   "outputs": [
    {
     "name": "stdout",
     "output_type": "stream",
     "text": [
      "Lematización con WordNetLemmatizer:\n",
      "running -> run\n",
      "runner -> runner\n",
      "ran -> run\n",
      "easily -> easily\n",
      "fairly -> fairly\n"
     ]
    }
   ],
   "source": [
    "print(\"Lematización con WordNetLemmatizer:\")\n",
    "for word in words:\n",
    "    print(f\"{word} -> {lemmatizer.lemmatize(word, pos='v')}\")"
   ]
  },
  {
   "cell_type": "code",
   "execution_count": null,
   "id": "98ebd942-df2f-40a0-a2bd-48ebdc9377b0",
   "metadata": {},
   "outputs": [],
   "source": []
  }
 ],
 "metadata": {
  "kernelspec": {
   "display_name": "Python 3 (ipykernel)",
   "language": "python",
   "name": "python3"
  },
  "language_info": {
   "codemirror_mode": {
    "name": "ipython",
    "version": 3
   },
   "file_extension": ".py",
   "mimetype": "text/x-python",
   "name": "python",
   "nbconvert_exporter": "python",
   "pygments_lexer": "ipython3",
   "version": "3.12.6"
  }
 },
 "nbformat": 4,
 "nbformat_minor": 5
}
