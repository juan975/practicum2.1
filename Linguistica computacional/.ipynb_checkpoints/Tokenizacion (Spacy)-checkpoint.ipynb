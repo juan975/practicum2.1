{
 "cells": [
  {
   "cell_type": "code",
   "execution_count": 1,
   "id": "1b8bae9f-45d0-4a95-873d-2755f5d2548e",
   "metadata": {},
   "outputs": [],
   "source": [
    "import spacy"
   ]
  },
  {
   "cell_type": "code",
   "execution_count": 2,
   "id": "7f54bca0-7bd5-48a3-bad1-2afa98a019b7",
   "metadata": {},
   "outputs": [],
   "source": [
    "# Carga el modelo de SpaCy para el idioma inglés\n",
    "nlp = spacy.load(\"en_core_web_sm\")"
   ]
  },
  {
   "cell_type": "code",
   "execution_count": 3,
   "id": "0db720bf-b544-41cb-af3c-e6d445387188",
   "metadata": {},
   "outputs": [],
   "source": [
    "text = \"Tokenization is crucial in Natural Language Processing!\"\n",
    "doc = nlp(text)"
   ]
  },
  {
   "cell_type": "code",
   "execution_count": 4,
   "id": "890358f0-b73f-4a57-b25e-c4c81f69694f",
   "metadata": {},
   "outputs": [
    {
     "name": "stdout",
     "output_type": "stream",
     "text": [
      "Tokens de palabras con SpaCy: ['Tokenization', 'is', 'crucial', 'in', 'Natural', 'Language', 'Processing', '!']\n"
     ]
    }
   ],
   "source": [
    "# Tokenización de palabras\n",
    "word_tokens = [token.text for token in doc]\n",
    "print(\"Tokens de palabras con SpaCy:\", word_tokens)"
   ]
  },
  {
   "cell_type": "code",
   "execution_count": null,
   "id": "63dbefd6-2957-4ebe-88a5-19238e9013a5",
   "metadata": {},
   "outputs": [],
   "source": []
  }
 ],
 "metadata": {
  "kernelspec": {
   "display_name": "Python 3 (ipykernel)",
   "language": "python",
   "name": "python3"
  },
  "language_info": {
   "codemirror_mode": {
    "name": "ipython",
    "version": 3
   },
   "file_extension": ".py",
   "mimetype": "text/x-python",
   "name": "python",
   "nbconvert_exporter": "python",
   "pygments_lexer": "ipython3",
   "version": "3.12.6"
  }
 },
 "nbformat": 4,
 "nbformat_minor": 5
}
