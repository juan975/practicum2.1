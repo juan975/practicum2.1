{
 "cells": [
  {
   "cell_type": "code",
   "execution_count": 1,
   "id": "f2527cfc-82d6-4332-a04c-b57e010fe2e4",
   "metadata": {},
   "outputs": [],
   "source": [
    "import spacy"
   ]
  },
  {
   "cell_type": "code",
   "execution_count": 2,
   "id": "de469dec-172d-440b-8b6e-0431b6ec46bf",
   "metadata": {},
   "outputs": [],
   "source": [
    "# Carga el modelo de SpaCy\n",
    "nlp = spacy.load(\"en_core_web_sm\")"
   ]
  },
  {
   "cell_type": "code",
   "execution_count": 3,
   "id": "80d10c37-cefe-414d-8ba9-2d3540419fc8",
   "metadata": {},
   "outputs": [],
   "source": [
    "text = \"The quick brown fox jumps over the lazy dog.\"\n",
    "doc = nlp(text)"
   ]
  },
  {
   "cell_type": "code",
   "execution_count": 4,
   "id": "5eecc8e6-fa1c-4d0f-bb4d-7815e6d4ddae",
   "metadata": {},
   "outputs": [
    {
     "name": "stdout",
     "output_type": "stream",
     "text": [
      "Etiquetado POS con SpaCy:\n",
      "The: DET (DT)\n",
      "quick: ADJ (JJ)\n",
      "brown: ADJ (JJ)\n",
      "fox: NOUN (NN)\n",
      "jumps: VERB (VBZ)\n",
      "over: ADP (IN)\n",
      "the: DET (DT)\n",
      "lazy: ADJ (JJ)\n",
      "dog: NOUN (NN)\n",
      ".: PUNCT (.)\n"
     ]
    }
   ],
   "source": [
    "print(\"Etiquetado POS con SpaCy:\")\n",
    "for token in doc:\n",
    "    print(f\"{token.text}: {token.pos_} ({token.tag_})\")"
   ]
  },
  {
   "cell_type": "code",
   "execution_count": null,
   "id": "e2efdbd1-fe93-4f7c-93ed-840bd30efa0d",
   "metadata": {},
   "outputs": [],
   "source": []
  }
 ],
 "metadata": {
  "kernelspec": {
   "display_name": "Python 3 (ipykernel)",
   "language": "python",
   "name": "python3"
  },
  "language_info": {
   "codemirror_mode": {
    "name": "ipython",
    "version": 3
   },
   "file_extension": ".py",
   "mimetype": "text/x-python",
   "name": "python",
   "nbconvert_exporter": "python",
   "pygments_lexer": "ipython3",
   "version": "3.12.6"
  }
 },
 "nbformat": 4,
 "nbformat_minor": 5
}
