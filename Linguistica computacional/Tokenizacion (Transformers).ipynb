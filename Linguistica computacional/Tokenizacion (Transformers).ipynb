{
 "cells": [
  {
   "cell_type": "code",
   "execution_count": 1,
   "id": "615fc818-a667-4eef-a31b-cb67aa4732c2",
   "metadata": {},
   "outputs": [
    {
     "name": "stderr",
     "output_type": "stream",
     "text": [
      "C:\\Users\\ASUS-R-STRIX\\OneDrive - Universidad Técnica Particular de Loja - UTPL\\Documentos\\UTPL\\Ciclo 5\\Pracxticum 2.1\\Ejercicios\\env1\\Lib\\site-packages\\tqdm\\auto.py:21: TqdmWarning: IProgress not found. Please update jupyter and ipywidgets. See https://ipywidgets.readthedocs.io/en/stable/user_install.html\n",
      "  from .autonotebook import tqdm as notebook_tqdm\n"
     ]
    }
   ],
   "source": [
    "from transformers import BertTokenizer"
   ]
  },
  {
   "cell_type": "code",
   "execution_count": 2,
   "id": "99432f0e-41f1-480a-a7b3-9e0aa9720ee9",
   "metadata": {},
   "outputs": [],
   "source": [
    "# Carga el tokenizador de BERT\n",
    "tokenizer = BertTokenizer.from_pretrained(\"bert-base-uncased\")\n",
    "\n",
    "text = \"Tokenization is crucial in Natural Language Processing!\""
   ]
  },
  {
   "cell_type": "code",
   "execution_count": 3,
   "id": "0b980bed-1764-498d-ba6e-7895db1482e0",
   "metadata": {},
   "outputs": [
    {
     "name": "stdout",
     "output_type": "stream",
     "text": [
      "Tokens de sub-palabras con Transformers: ['token', '##ization', 'is', 'crucial', 'in', 'natural', 'language', 'processing', '!']\n"
     ]
    }
   ],
   "source": [
    "# Tokenización de sub-palabras\n",
    "tokens = tokenizer.tokenize(text)\n",
    "print(\"Tokens de sub-palabras con Transformers:\", tokens)"
   ]
  },
  {
   "cell_type": "code",
   "execution_count": 4,
   "id": "8bcea4a0-19e0-4bce-9c6f-01e7c3204985",
   "metadata": {},
   "outputs": [
    {
     "name": "stdout",
     "output_type": "stream",
     "text": [
      "IDs de tokens con Transformers: tensor([[  101, 19204,  3989,  2003, 10232,  1999,  3019,  2653,  6364,   999,\n",
      "           102]])\n"
     ]
    }
   ],
   "source": [
    "# Tokenización con IDs (para entrada en el modelo)\n",
    "tokens_ids = tokenizer(text, return_tensors=\"pt\")\n",
    "print(\"IDs de tokens con Transformers:\", tokens_ids[\"input_ids\"])"
   ]
  },
  {
   "cell_type": "code",
   "execution_count": null,
   "id": "9cec23e0-9a15-49a1-ae3b-112d5a1b1027",
   "metadata": {},
   "outputs": [],
   "source": []
  }
 ],
 "metadata": {
  "kernelspec": {
   "display_name": "Python 3 (ipykernel)",
   "language": "python",
   "name": "python3"
  },
  "language_info": {
   "codemirror_mode": {
    "name": "ipython",
    "version": 3
   },
   "file_extension": ".py",
   "mimetype": "text/x-python",
   "name": "python",
   "nbconvert_exporter": "python",
   "pygments_lexer": "ipython3",
   "version": "3.12.6"
  }
 },
 "nbformat": 4,
 "nbformat_minor": 5
}
