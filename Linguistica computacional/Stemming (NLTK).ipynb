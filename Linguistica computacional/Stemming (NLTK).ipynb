{
 "cells": [
  {
   "cell_type": "code",
   "execution_count": 1,
   "id": "aafed444-dd34-4f81-a567-5b485fe90117",
   "metadata": {},
   "outputs": [],
   "source": [
    "from nltk.stem import PorterStemmer\n",
    "from nltk.stem.snowball import SnowballStemmer"
   ]
  },
  {
   "cell_type": "code",
   "execution_count": 2,
   "id": "df5c0f7f-2c03-4dfc-ad63-a0c21070cc66",
   "metadata": {},
   "outputs": [],
   "source": [
    "# Inicializa el stemmer de Porter\n",
    "porter_stemmer = PorterStemmer()\n",
    "# Inicializa el Snowball Stemmer (que funciona con múltiples idiomas)\n",
    "snowball_stemmer = SnowballStemmer(\"english\")"
   ]
  },
  {
   "cell_type": "code",
   "execution_count": 3,
   "id": "0de9e4bc-d11d-44d3-b70e-3a03cea8341b",
   "metadata": {},
   "outputs": [
    {
     "name": "stdout",
     "output_type": "stream",
     "text": [
      "Stemming con PorterStemmer:\n",
      "running -> run\n",
      "runner -> runner\n",
      "ran -> ran\n",
      "easily -> easili\n",
      "fairly -> fairli\n",
      "\n",
      "Stemming con SnowballStemmer:\n",
      "running -> run\n",
      "runner -> runner\n",
      "ran -> ran\n",
      "easily -> easili\n",
      "fairly -> fair\n"
     ]
    }
   ],
   "source": [
    "words = [\"running\", \"runner\", \"ran\", \"easily\", \"fairly\"]\n",
    "\n",
    "print(\"Stemming con PorterStemmer:\")\n",
    "for word in words:\n",
    "    print(f\"{word} -> {porter_stemmer.stem(word)}\")\n",
    "\n",
    "print(\"\\nStemming con SnowballStemmer:\")\n",
    "for word in words:\n",
    "    print(f\"{word} -> {snowball_stemmer.stem(word)}\")"
   ]
  },
  {
   "cell_type": "code",
   "execution_count": null,
   "id": "c20588f0-836f-4892-bdc2-5e49e0a40d08",
   "metadata": {},
   "outputs": [],
   "source": []
  }
 ],
 "metadata": {
  "kernelspec": {
   "display_name": "Python 3 (ipykernel)",
   "language": "python",
   "name": "python3"
  },
  "language_info": {
   "codemirror_mode": {
    "name": "ipython",
    "version": 3
   },
   "file_extension": ".py",
   "mimetype": "text/x-python",
   "name": "python",
   "nbconvert_exporter": "python",
   "pygments_lexer": "ipython3",
   "version": "3.12.6"
  }
 },
 "nbformat": 4,
 "nbformat_minor": 5
}
