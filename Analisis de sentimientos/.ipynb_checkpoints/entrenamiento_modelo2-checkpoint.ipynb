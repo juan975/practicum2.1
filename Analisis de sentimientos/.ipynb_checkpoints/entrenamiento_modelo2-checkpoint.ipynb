{
 "cells": [
  {
   "cell_type": "code",
   "execution_count": 112,
   "id": "587ab37c-346f-4355-8e59-7b6dd53757de",
   "metadata": {},
   "outputs": [],
   "source": [
    "import numpy as np\n",
    "import pandas as pd\n",
    "import seaborn as sn\n",
    "import matplotlib.pyplot as plt\n",
    "from nltk.corpus import stopwords\n",
    "import nltk\n",
    "from sklearn.feature_extraction.text import CountVectorizer, TfidfVectorizer\n",
    "from sklearn.linear_model import LogisticRegression\n",
    "from sklearn.metrics import roc_auc_score, f1_score, confusion_matrix\n",
    "from sklearn.model_selection import train_test_split\n",
    "from sklearn.pipeline import Pipeline\n",
    "from sklearn.metrics import classification_report"
   ]
  },
  {
   "cell_type": "code",
   "execution_count": 113,
   "id": "e2ff51cc-1d88-4d40-9db0-1b2c668b1f0d",
   "metadata": {},
   "outputs": [
    {
     "name": "stderr",
     "output_type": "stream",
     "text": [
      "[nltk_data] Downloading package stopwords to C:\\Users\\ASUS-R-\n",
      "[nltk_data]     STRIX\\AppData\\Roaming\\nltk_data...\n",
      "[nltk_data]   Package stopwords is already up-to-date!\n"
     ]
    },
    {
     "data": {
      "text/plain": [
       "True"
      ]
     },
     "execution_count": 113,
     "metadata": {},
     "output_type": "execute_result"
    }
   ],
   "source": [
    "nltk.download('stopwords')"
   ]
  },
  {
   "cell_type": "code",
   "execution_count": 114,
   "id": "b1983eb3-1111-4ce9-88d8-2b8fa35fab1a",
   "metadata": {},
   "outputs": [
    {
     "data": {
      "text/html": [
       "<div>\n",
       "<style scoped>\n",
       "    .dataframe tbody tr th:only-of-type {\n",
       "        vertical-align: middle;\n",
       "    }\n",
       "\n",
       "    .dataframe tbody tr th {\n",
       "        vertical-align: top;\n",
       "    }\n",
       "\n",
       "    .dataframe thead th {\n",
       "        text-align: right;\n",
       "    }\n",
       "</style>\n",
       "<table border=\"1\" class=\"dataframe\">\n",
       "  <thead>\n",
       "    <tr style=\"text-align: right;\">\n",
       "      <th></th>\n",
       "      <th>Unnamed: 0</th>\n",
       "      <th>feedback</th>\n",
       "      <th>codigo</th>\n",
       "      <th>polaridad</th>\n",
       "      <th>Unnamed: 4</th>\n",
       "    </tr>\n",
       "  </thead>\n",
       "  <tbody>\n",
       "    <tr>\n",
       "      <th>0</th>\n",
       "      <td>624927</td>\n",
       "      <td>muy bien elaborada, se podría incluir ciertos ...</td>\n",
       "      <td>624927</td>\n",
       "      <td>P</td>\n",
       "      <td>NaN</td>\n",
       "    </tr>\n",
       "    <tr>\n",
       "      <th>1</th>\n",
       "      <td>543337</td>\n",
       "      <td>La información es ordenada y precisa pero reco...</td>\n",
       "      <td>543337</td>\n",
       "      <td>P</td>\n",
       "      <td>NaN</td>\n",
       "    </tr>\n",
       "    <tr>\n",
       "      <th>2</th>\n",
       "      <td>614284</td>\n",
       "      <td>Excelente aporte</td>\n",
       "      <td>614284</td>\n",
       "      <td>P</td>\n",
       "      <td>NaN</td>\n",
       "    </tr>\n",
       "    <tr>\n",
       "      <th>3</th>\n",
       "      <td>296130</td>\n",
       "      <td>En la respuesta que le he puesto 3, ha sido po...</td>\n",
       "      <td>296130</td>\n",
       "      <td>N</td>\n",
       "      <td>NaN</td>\n",
       "    </tr>\n",
       "    <tr>\n",
       "      <th>4</th>\n",
       "      <td>555037</td>\n",
       "      <td>Conciso, excelente</td>\n",
       "      <td>555037</td>\n",
       "      <td>P</td>\n",
       "      <td>NaN</td>\n",
       "    </tr>\n",
       "    <tr>\n",
       "      <th>...</th>\n",
       "      <td>...</td>\n",
       "      <td>...</td>\n",
       "      <td>...</td>\n",
       "      <td>...</td>\n",
       "      <td>...</td>\n",
       "    </tr>\n",
       "    <tr>\n",
       "      <th>2995</th>\n",
       "      <td>684953</td>\n",
       "      <td>excelente</td>\n",
       "      <td>684953</td>\n",
       "      <td>P</td>\n",
       "      <td>NaN</td>\n",
       "    </tr>\n",
       "    <tr>\n",
       "      <th>2996</th>\n",
       "      <td>444203</td>\n",
       "      <td>Felicidades estimado/a estudiante, excelente t...</td>\n",
       "      <td>444203</td>\n",
       "      <td>P</td>\n",
       "      <td>NaN</td>\n",
       "    </tr>\n",
       "    <tr>\n",
       "      <th>2997</th>\n",
       "      <td>666824</td>\n",
       "      <td>Me gusto su presentación</td>\n",
       "      <td>666824</td>\n",
       "      <td>P</td>\n",
       "      <td>NaN</td>\n",
       "    </tr>\n",
       "    <tr>\n",
       "      <th>2998</th>\n",
       "      <td>167032</td>\n",
       "      <td>Se entiende en la formulacion de la encuesta q...</td>\n",
       "      <td>167032</td>\n",
       "      <td>P</td>\n",
       "      <td>NaN</td>\n",
       "    </tr>\n",
       "    <tr>\n",
       "      <th>2999</th>\n",
       "      <td>486468</td>\n",
       "      <td>La infografía cumple con todo lo requerido en ...</td>\n",
       "      <td>486468</td>\n",
       "      <td>NEU</td>\n",
       "      <td>NaN</td>\n",
       "    </tr>\n",
       "  </tbody>\n",
       "</table>\n",
       "<p>3000 rows × 5 columns</p>\n",
       "</div>"
      ],
      "text/plain": [
       "      Unnamed: 0                                           feedback  codigo  \\\n",
       "0         624927  muy bien elaborada, se podría incluir ciertos ...  624927   \n",
       "1         543337  La información es ordenada y precisa pero reco...  543337   \n",
       "2         614284                                   Excelente aporte  614284   \n",
       "3         296130  En la respuesta que le he puesto 3, ha sido po...  296130   \n",
       "4         555037                                 Conciso, excelente  555037   \n",
       "...          ...                                                ...     ...   \n",
       "2995      684953                                          excelente  684953   \n",
       "2996      444203  Felicidades estimado/a estudiante, excelente t...  444203   \n",
       "2997      666824                           Me gusto su presentación  666824   \n",
       "2998      167032  Se entiende en la formulacion de la encuesta q...  167032   \n",
       "2999      486468  La infografía cumple con todo lo requerido en ...  486468   \n",
       "\n",
       "     polaridad Unnamed: 4  \n",
       "0            P        NaN  \n",
       "1            P        NaN  \n",
       "2            P        NaN  \n",
       "3            N        NaN  \n",
       "4            P        NaN  \n",
       "...        ...        ...  \n",
       "2995         P        NaN  \n",
       "2996         P        NaN  \n",
       "2997         P        NaN  \n",
       "2998         P        NaN  \n",
       "2999       NEU        NaN  \n",
       "\n",
       "[3000 rows x 5 columns]"
      ]
     },
     "execution_count": 114,
     "metadata": {},
     "output_type": "execute_result"
    }
   ],
   "source": [
    "#Importacion de datos de etrenamiento\n",
    "df = pd.read_excel('data_entrenada_propia_GP.ods', engine='odf')\n",
    "df"
   ]
  },
  {
   "cell_type": "code",
   "execution_count": 158,
   "id": "1627c0fa-cf85-4d20-94a7-296a14837ad1",
   "metadata": {},
   "outputs": [
    {
     "data": {
      "text/html": [
       "<div>\n",
       "<style scoped>\n",
       "    .dataframe tbody tr th:only-of-type {\n",
       "        vertical-align: middle;\n",
       "    }\n",
       "\n",
       "    .dataframe tbody tr th {\n",
       "        vertical-align: top;\n",
       "    }\n",
       "\n",
       "    .dataframe thead th {\n",
       "        text-align: right;\n",
       "    }\n",
       "</style>\n",
       "<table border=\"1\" class=\"dataframe\">\n",
       "  <thead>\n",
       "    <tr style=\"text-align: right;\">\n",
       "      <th></th>\n",
       "      <th>feedback</th>\n",
       "      <th>polaridad</th>\n",
       "    </tr>\n",
       "  </thead>\n",
       "  <tbody>\n",
       "    <tr>\n",
       "      <th>0</th>\n",
       "      <td>La experiencia fue excelente, muy recomendada</td>\n",
       "      <td>P</td>\n",
       "    </tr>\n",
       "    <tr>\n",
       "      <th>1</th>\n",
       "      <td>Nunca recibí lo que pedí, pésimo servicio</td>\n",
       "      <td>N</td>\n",
       "    </tr>\n",
       "    <tr>\n",
       "      <th>2</th>\n",
       "      <td>No tengo nada relevante que mencionar</td>\n",
       "      <td>NEU</td>\n",
       "    </tr>\n",
       "    <tr>\n",
       "      <th>3</th>\n",
       "      <td>Definitivamente lo volvería a comprar</td>\n",
       "      <td>P</td>\n",
       "    </tr>\n",
       "    <tr>\n",
       "      <th>4</th>\n",
       "      <td>El paquete estaba incompleto y defectuoso</td>\n",
       "      <td>N</td>\n",
       "    </tr>\n",
       "    <tr>\n",
       "      <th>...</th>\n",
       "      <td>...</td>\n",
       "      <td>...</td>\n",
       "    </tr>\n",
       "    <tr>\n",
       "      <th>2996</th>\n",
       "      <td>La experiencia fue regular, ni buena ni mala</td>\n",
       "      <td>NEU</td>\n",
       "    </tr>\n",
       "    <tr>\n",
       "      <th>2997</th>\n",
       "      <td>El equipo funciona perfectamente</td>\n",
       "      <td>P</td>\n",
       "    </tr>\n",
       "    <tr>\n",
       "      <th>2998</th>\n",
       "      <td>La atención fue deficiente y no cumplieron lo ...</td>\n",
       "      <td>N</td>\n",
       "    </tr>\n",
       "    <tr>\n",
       "      <th>2999</th>\n",
       "      <td>Podría ser mejor, pero no es terrible</td>\n",
       "      <td>NEU</td>\n",
       "    </tr>\n",
       "    <tr>\n",
       "      <th>3000</th>\n",
       "      <td>No la recomendaria</td>\n",
       "      <td>N</td>\n",
       "    </tr>\n",
       "  </tbody>\n",
       "</table>\n",
       "<p>3001 rows × 2 columns</p>\n",
       "</div>"
      ],
      "text/plain": [
       "                                               feedback polaridad\n",
       "0         La experiencia fue excelente, muy recomendada         P\n",
       "1             Nunca recibí lo que pedí, pésimo servicio         N\n",
       "2                 No tengo nada relevante que mencionar       NEU\n",
       "3                 Definitivamente lo volvería a comprar         P\n",
       "4             El paquete estaba incompleto y defectuoso         N\n",
       "...                                                 ...       ...\n",
       "2996       La experiencia fue regular, ni buena ni mala       NEU\n",
       "2997                   El equipo funciona perfectamente         P\n",
       "2998  La atención fue deficiente y no cumplieron lo ...         N\n",
       "2999              Podría ser mejor, pero no es terrible       NEU\n",
       "3000                                 No la recomendaria         N\n",
       "\n",
       "[3001 rows x 2 columns]"
      ]
     },
     "execution_count": 158,
     "metadata": {},
     "output_type": "execute_result"
    }
   ],
   "source": [
    "df = pd.read_csv('Dataset_de_Pruebas_Extendido.csv')\n",
    "df"
   ]
  },
  {
   "cell_type": "markdown",
   "id": "a3ed3b50-a465-41a1-aaaa-2fbfc73f35b3",
   "metadata": {},
   "source": [
    "# Limpieza de Datos"
   ]
  },
  {
   "cell_type": "code",
   "execution_count": 116,
   "id": "5b140fc3-184a-423a-8bba-16e53b653da6",
   "metadata": {},
   "outputs": [
    {
     "name": "stdout",
     "output_type": "stream",
     "text": [
      "Unnamed: 0       0\n",
      "feedback         5\n",
      "codigo           0\n",
      "polaridad        7\n",
      "Unnamed: 4    2792\n",
      "dtype: int64\n"
     ]
    }
   ],
   "source": [
    "# Revisión de datos nulos\n",
    "print(df.isnull().sum())"
   ]
  },
  {
   "cell_type": "code",
   "execution_count": 117,
   "id": "1600378b-b1b6-4691-a774-cc6817aaedfb",
   "metadata": {},
   "outputs": [],
   "source": [
    "# Eliminar filas con valores nulos en 'feedback' o 'polaridad'\n",
    "df = df.dropna(subset=['feedback', 'polaridad'])"
   ]
  },
  {
   "cell_type": "code",
   "execution_count": 118,
   "id": "f1ac9e96-afa8-4368-aba4-44be19f0cc7e",
   "metadata": {},
   "outputs": [
    {
     "name": "stdout",
     "output_type": "stream",
     "text": [
      "Unnamed: 0       0\n",
      "feedback         0\n",
      "codigo           0\n",
      "polaridad        0\n",
      "Unnamed: 4    2780\n",
      "dtype: int64\n"
     ]
    }
   ],
   "source": [
    "# Verificar que los valores nulos se eliminaron\n",
    "print(df.isnull().sum())"
   ]
  },
  {
   "cell_type": "code",
   "execution_count": 119,
   "id": "c67e2dd1-9ab9-442d-b4a6-862cced7bbfb",
   "metadata": {},
   "outputs": [],
   "source": [
    "# DataFrame solo con las columnas necesarias\n",
    "df = df[['polaridad', 'feedback']]"
   ]
  },
  {
   "cell_type": "code",
   "execution_count": 120,
   "id": "a1dac9b6-5f60-4474-a13f-479a0c58b5c4",
   "metadata": {},
   "outputs": [
    {
     "name": "stdout",
     "output_type": "stream",
     "text": [
      "polaridad\n",
      "P         1780\n",
      "N          552\n",
      "NEU        330\n",
      "NONE       322\n",
      "NUE          2\n",
      "NEUTRO       1\n",
      "NOE          1\n",
      "Name: count, dtype: int64\n"
     ]
    }
   ],
   "source": [
    "# Revision de la columna 'polaridad'\n",
    "print(df['polaridad'].value_counts())"
   ]
  },
  {
   "cell_type": "code",
   "execution_count": 121,
   "id": "eeb552ac-742f-44f7-b163-0ff90317bf43",
   "metadata": {},
   "outputs": [
    {
     "data": {
      "text/html": [
       "<div>\n",
       "<style scoped>\n",
       "    .dataframe tbody tr th:only-of-type {\n",
       "        vertical-align: middle;\n",
       "    }\n",
       "\n",
       "    .dataframe tbody tr th {\n",
       "        vertical-align: top;\n",
       "    }\n",
       "\n",
       "    .dataframe thead th {\n",
       "        text-align: right;\n",
       "    }\n",
       "</style>\n",
       "<table border=\"1\" class=\"dataframe\">\n",
       "  <thead>\n",
       "    <tr style=\"text-align: right;\">\n",
       "      <th></th>\n",
       "      <th>polaridad</th>\n",
       "      <th>feedback</th>\n",
       "    </tr>\n",
       "  </thead>\n",
       "  <tbody>\n",
       "    <tr>\n",
       "      <th>68</th>\n",
       "      <td>NEUTRO</td>\n",
       "      <td>Muy Bien</td>\n",
       "    </tr>\n",
       "    <tr>\n",
       "      <th>253</th>\n",
       "      <td>NUE</td>\n",
       "      <td>Hay variedad de plantas que son medicinales de...</td>\n",
       "    </tr>\n",
       "    <tr>\n",
       "      <th>1331</th>\n",
       "      <td>NOE</td>\n",
       "      <td>10 puntos.</td>\n",
       "    </tr>\n",
       "    <tr>\n",
       "      <th>1446</th>\n",
       "      <td>NUE</td>\n",
       "      <td>Muy narrativa</td>\n",
       "    </tr>\n",
       "  </tbody>\n",
       "</table>\n",
       "</div>"
      ],
      "text/plain": [
       "     polaridad                                           feedback\n",
       "68      NEUTRO                                           Muy Bien\n",
       "253        NUE  Hay variedad de plantas que son medicinales de...\n",
       "1331       NOE                                         10 puntos.\n",
       "1446       NUE                                      Muy narrativa"
      ]
     },
     "execution_count": 121,
     "metadata": {},
     "output_type": "execute_result"
    }
   ],
   "source": [
    "# Normalizar los nombres de la polaridad\n",
    "df.loc[(df['polaridad'] == 'NEUTRO') | (df['polaridad'] == 'NUE') | (df['polaridad'] == 'NOE')]"
   ]
  },
  {
   "cell_type": "code",
   "execution_count": 122,
   "id": "fd2ae04d-9ff8-49b2-8206-a45524f61a58",
   "metadata": {},
   "outputs": [],
   "source": [
    "# Cambiar valores incorrectos\n",
    "df.loc[:, 'polaridad'] = df['polaridad'].replace({\n",
    "    'NEUTRO': 'P',\n",
    "    'NOE': 'NONE',\n",
    "    'NUE': 'NEU'\n",
    "})"
   ]
  },
  {
   "cell_type": "code",
   "execution_count": 123,
   "id": "49084de3-fa69-4f5f-97bf-c5527dd4c4db",
   "metadata": {},
   "outputs": [
    {
     "name": "stdout",
     "output_type": "stream",
     "text": [
      "polaridad\n",
      "P       1781\n",
      "N        552\n",
      "NEU      332\n",
      "NONE     323\n",
      "Name: count, dtype: int64\n"
     ]
    }
   ],
   "source": [
    "# Revision de los cambios en la columna 'polaridad'\n",
    "print(df['polaridad'].value_counts())"
   ]
  },
  {
   "cell_type": "code",
   "execution_count": 124,
   "id": "67d8790d-e7ac-43b9-80df-1af3b1028b2f",
   "metadata": {},
   "outputs": [],
   "source": [
    "df['feedback'] = df['feedback'].astype(str)"
   ]
  },
  {
   "cell_type": "code",
   "execution_count": 159,
   "id": "2fb616e1-8aae-44ee-bbf5-2e5183144300",
   "metadata": {},
   "outputs": [
    {
     "data": {
      "text/html": [
       "<div>\n",
       "<style scoped>\n",
       "    .dataframe tbody tr th:only-of-type {\n",
       "        vertical-align: middle;\n",
       "    }\n",
       "\n",
       "    .dataframe tbody tr th {\n",
       "        vertical-align: top;\n",
       "    }\n",
       "\n",
       "    .dataframe thead th {\n",
       "        text-align: right;\n",
       "    }\n",
       "</style>\n",
       "<table border=\"1\" class=\"dataframe\">\n",
       "  <thead>\n",
       "    <tr style=\"text-align: right;\">\n",
       "      <th></th>\n",
       "      <th>feedback</th>\n",
       "      <th>polaridad</th>\n",
       "    </tr>\n",
       "  </thead>\n",
       "  <tbody>\n",
       "    <tr>\n",
       "      <th>0</th>\n",
       "      <td>La experiencia fue excelente, muy recomendada</td>\n",
       "      <td>P</td>\n",
       "    </tr>\n",
       "    <tr>\n",
       "      <th>1</th>\n",
       "      <td>Nunca recibí lo que pedí, pésimo servicio</td>\n",
       "      <td>N</td>\n",
       "    </tr>\n",
       "    <tr>\n",
       "      <th>2</th>\n",
       "      <td>No tengo nada relevante que mencionar</td>\n",
       "      <td>NEU</td>\n",
       "    </tr>\n",
       "    <tr>\n",
       "      <th>3</th>\n",
       "      <td>Definitivamente lo volvería a comprar</td>\n",
       "      <td>P</td>\n",
       "    </tr>\n",
       "    <tr>\n",
       "      <th>4</th>\n",
       "      <td>El paquete estaba incompleto y defectuoso</td>\n",
       "      <td>N</td>\n",
       "    </tr>\n",
       "  </tbody>\n",
       "</table>\n",
       "</div>"
      ],
      "text/plain": [
       "                                        feedback polaridad\n",
       "0  La experiencia fue excelente, muy recomendada         P\n",
       "1      Nunca recibí lo que pedí, pésimo servicio         N\n",
       "2          No tengo nada relevante que mencionar       NEU\n",
       "3          Definitivamente lo volvería a comprar         P\n",
       "4      El paquete estaba incompleto y defectuoso         N"
      ]
     },
     "execution_count": 159,
     "metadata": {},
     "output_type": "execute_result"
    }
   ],
   "source": [
    "df.head()"
   ]
  },
  {
   "cell_type": "code",
   "execution_count": 126,
   "id": "2c2aa313-9d82-436f-9fb8-a2aac79b697d",
   "metadata": {},
   "outputs": [],
   "source": [
    "# Eliminar los datos NONE que no tienen ningun valor\n",
    "df = df[df['polaridad'] != 'NONE']"
   ]
  },
  {
   "cell_type": "code",
   "execution_count": 127,
   "id": "3b6397df-7a97-4416-972e-00c3a71473cc",
   "metadata": {},
   "outputs": [
    {
     "data": {
      "text/html": [
       "<div>\n",
       "<style scoped>\n",
       "    .dataframe tbody tr th:only-of-type {\n",
       "        vertical-align: middle;\n",
       "    }\n",
       "\n",
       "    .dataframe tbody tr th {\n",
       "        vertical-align: top;\n",
       "    }\n",
       "\n",
       "    .dataframe thead th {\n",
       "        text-align: right;\n",
       "    }\n",
       "</style>\n",
       "<table border=\"1\" class=\"dataframe\">\n",
       "  <thead>\n",
       "    <tr style=\"text-align: right;\">\n",
       "      <th></th>\n",
       "      <th>polaridad</th>\n",
       "      <th>feedback</th>\n",
       "    </tr>\n",
       "  </thead>\n",
       "  <tbody>\n",
       "    <tr>\n",
       "      <th>0</th>\n",
       "      <td>P</td>\n",
       "      <td>muy bien elaborada, se podría incluir ciertos ...</td>\n",
       "    </tr>\n",
       "    <tr>\n",
       "      <th>1</th>\n",
       "      <td>P</td>\n",
       "      <td>La información es ordenada y precisa pero reco...</td>\n",
       "    </tr>\n",
       "    <tr>\n",
       "      <th>2</th>\n",
       "      <td>P</td>\n",
       "      <td>Excelente aporte</td>\n",
       "    </tr>\n",
       "    <tr>\n",
       "      <th>3</th>\n",
       "      <td>N</td>\n",
       "      <td>En la respuesta que le he puesto 3, ha sido po...</td>\n",
       "    </tr>\n",
       "    <tr>\n",
       "      <th>4</th>\n",
       "      <td>P</td>\n",
       "      <td>Conciso, excelente</td>\n",
       "    </tr>\n",
       "    <tr>\n",
       "      <th>...</th>\n",
       "      <td>...</td>\n",
       "      <td>...</td>\n",
       "    </tr>\n",
       "    <tr>\n",
       "      <th>5661</th>\n",
       "      <td>NEU</td>\n",
       "      <td>La experiencia fue regular, ni buena ni mala</td>\n",
       "    </tr>\n",
       "    <tr>\n",
       "      <th>5662</th>\n",
       "      <td>P</td>\n",
       "      <td>El equipo funciona perfectamente</td>\n",
       "    </tr>\n",
       "    <tr>\n",
       "      <th>5663</th>\n",
       "      <td>N</td>\n",
       "      <td>La atención fue deficiente y no cumplieron lo ...</td>\n",
       "    </tr>\n",
       "    <tr>\n",
       "      <th>5664</th>\n",
       "      <td>NEU</td>\n",
       "      <td>Podría ser mejor, pero no es terrible</td>\n",
       "    </tr>\n",
       "    <tr>\n",
       "      <th>5665</th>\n",
       "      <td>N</td>\n",
       "      <td>No la recomendaria</td>\n",
       "    </tr>\n",
       "  </tbody>\n",
       "</table>\n",
       "<p>5666 rows × 2 columns</p>\n",
       "</div>"
      ],
      "text/plain": [
       "     polaridad                                           feedback\n",
       "0            P  muy bien elaborada, se podría incluir ciertos ...\n",
       "1            P  La información es ordenada y precisa pero reco...\n",
       "2            P                                   Excelente aporte\n",
       "3            N  En la respuesta que le he puesto 3, ha sido po...\n",
       "4            P                                 Conciso, excelente\n",
       "...        ...                                                ...\n",
       "5661       NEU       La experiencia fue regular, ni buena ni mala\n",
       "5662         P                   El equipo funciona perfectamente\n",
       "5663         N  La atención fue deficiente y no cumplieron lo ...\n",
       "5664       NEU              Podría ser mejor, pero no es terrible\n",
       "5665         N                                 No la recomendaria\n",
       "\n",
       "[5666 rows x 2 columns]"
      ]
     },
     "execution_count": 127,
     "metadata": {},
     "output_type": "execute_result"
    }
   ],
   "source": [
    "# Concatenar los datasets por filas\n",
    "df = pd.concat([df, df2], ignore_index=True)\n",
    "\n",
    "# Mostrar el resultado\n",
    "df"
   ]
  },
  {
   "cell_type": "code",
   "execution_count": 160,
   "id": "72f104bf-3731-43e4-b418-6d732f15a332",
   "metadata": {},
   "outputs": [
    {
     "data": {
      "text/plain": [
       "<Axes: >"
      ]
     },
     "execution_count": 160,
     "metadata": {},
     "output_type": "execute_result"
    },
    {
     "data": {
      "image/png": "[encoded data removed]",
      "text/plain": [
       "<Figure size 640x480 with 1 Axes>"
      ]
     },
     "metadata": {},
     "output_type": "display_data"
    }
   ],
   "source": [
    "df['polaridad'].hist()"
   ]
  },
  {
   "cell_type": "code",
   "execution_count": 129,
   "id": "afb4f59c-2160-4b7a-ac3d-f021c86348cb",
   "metadata": {},
   "outputs": [
    {
     "data": {
      "text/html": [
       "<div>\n",
       "<style scoped>\n",
       "    .dataframe tbody tr th:only-of-type {\n",
       "        vertical-align: middle;\n",
       "    }\n",
       "\n",
       "    .dataframe tbody tr th {\n",
       "        vertical-align: top;\n",
       "    }\n",
       "\n",
       "    .dataframe thead th {\n",
       "        text-align: right;\n",
       "    }\n",
       "</style>\n",
       "<table border=\"1\" class=\"dataframe\">\n",
       "  <thead>\n",
       "    <tr style=\"text-align: right;\">\n",
       "      <th></th>\n",
       "      <th>polaridad</th>\n",
       "      <th>feedback</th>\n",
       "    </tr>\n",
       "  </thead>\n",
       "  <tbody>\n",
       "    <tr>\n",
       "      <th>0</th>\n",
       "      <td>P</td>\n",
       "      <td>muy bien elaborada, se podría incluir ciertos ...</td>\n",
       "    </tr>\n",
       "    <tr>\n",
       "      <th>1</th>\n",
       "      <td>P</td>\n",
       "      <td>La información es ordenada y precisa pero reco...</td>\n",
       "    </tr>\n",
       "    <tr>\n",
       "      <th>2</th>\n",
       "      <td>P</td>\n",
       "      <td>Excelente aporte</td>\n",
       "    </tr>\n",
       "    <tr>\n",
       "      <th>3</th>\n",
       "      <td>N</td>\n",
       "      <td>En la respuesta que le he puesto 3, ha sido po...</td>\n",
       "    </tr>\n",
       "    <tr>\n",
       "      <th>4</th>\n",
       "      <td>P</td>\n",
       "      <td>Conciso, excelente</td>\n",
       "    </tr>\n",
       "    <tr>\n",
       "      <th>...</th>\n",
       "      <td>...</td>\n",
       "      <td>...</td>\n",
       "    </tr>\n",
       "    <tr>\n",
       "      <th>5660</th>\n",
       "      <td>N</td>\n",
       "      <td>No recomiendo este lugar, mala experiencia</td>\n",
       "    </tr>\n",
       "    <tr>\n",
       "      <th>5661</th>\n",
       "      <td>NEU</td>\n",
       "      <td>La experiencia fue regular, ni buena ni mala</td>\n",
       "    </tr>\n",
       "    <tr>\n",
       "      <th>5663</th>\n",
       "      <td>N</td>\n",
       "      <td>La atención fue deficiente y no cumplieron lo ...</td>\n",
       "    </tr>\n",
       "    <tr>\n",
       "      <th>5664</th>\n",
       "      <td>NEU</td>\n",
       "      <td>Podría ser mejor, pero no es terrible</td>\n",
       "    </tr>\n",
       "    <tr>\n",
       "      <th>5665</th>\n",
       "      <td>N</td>\n",
       "      <td>No la recomendaria</td>\n",
       "    </tr>\n",
       "  </tbody>\n",
       "</table>\n",
       "<p>4693 rows × 2 columns</p>\n",
       "</div>"
      ],
      "text/plain": [
       "     polaridad                                           feedback\n",
       "0            P  muy bien elaborada, se podría incluir ciertos ...\n",
       "1            P  La información es ordenada y precisa pero reco...\n",
       "2            P                                   Excelente aporte\n",
       "3            N  En la respuesta que le he puesto 3, ha sido po...\n",
       "4            P                                 Conciso, excelente\n",
       "...        ...                                                ...\n",
       "5660         N         No recomiendo este lugar, mala experiencia\n",
       "5661       NEU       La experiencia fue regular, ni buena ni mala\n",
       "5663         N  La atención fue deficiente y no cumplieron lo ...\n",
       "5664       NEU              Podría ser mejor, pero no es terrible\n",
       "5665         N                                 No la recomendaria\n",
       "\n",
       "[4693 rows x 2 columns]"
      ]
     },
     "execution_count": 129,
     "metadata": {},
     "output_type": "execute_result"
    }
   ],
   "source": [
    "# Filtrar las frases positivas\n",
    "positivas = df[df['polaridad'] == 'P']\n",
    "\n",
    "# Seleccionar un subconjunto de frases positivas para eliminar (30%)\n",
    "fraccion_eliminar = 0.35\n",
    "positivas_eliminar = positivas.sample(frac=fraccion_eliminar, random_state=42)\n",
    "\n",
    "# Eliminar las frases seleccionadas del dataset original\n",
    "df = df.drop(positivas_eliminar.index)\n",
    "df"
   ]
  },
  {
   "cell_type": "code",
   "execution_count": 130,
   "id": "c202fc0c-f4cd-4dde-a8ec-538289ac0e27",
   "metadata": {},
   "outputs": [
    {
     "data": {
      "text/plain": [
       "<Axes: >"
      ]
     },
     "execution_count": 130,
     "metadata": {},
     "output_type": "execute_result"
    },
    {
     "data": {
      "image/png": "[encoded data removed]",
      "text/plain": [
       "<Figure size 640x480 with 1 Axes>"
      ]
     },
     "metadata": {},
     "output_type": "display_data"
    }
   ],
   "source": [
    "df['polaridad'].hist()"
   ]
  },
  {
   "cell_type": "code",
   "execution_count": 131,
   "id": "32297075-8b88-484b-8ed6-ff914cb26f16",
   "metadata": {},
   "outputs": [],
   "source": [
    "# Crear codigos para cada polaridad\n",
    "target_map = {'P': 1, 'N': 0, 'NEU': 2}\n",
    "df['target'] = df['polaridad'].map(target_map)"
   ]
  },
  {
   "cell_type": "code",
   "execution_count": 132,
   "id": "4232b0be-4e8d-4938-8f70-8b0023ac406b",
   "metadata": {},
   "outputs": [
    {
     "data": {
      "text/html": [
       "<div>\n",
       "<style scoped>\n",
       "    .dataframe tbody tr th:only-of-type {\n",
       "        vertical-align: middle;\n",
       "    }\n",
       "\n",
       "    .dataframe tbody tr th {\n",
       "        vertical-align: top;\n",
       "    }\n",
       "\n",
       "    .dataframe thead th {\n",
       "        text-align: right;\n",
       "    }\n",
       "</style>\n",
       "<table border=\"1\" class=\"dataframe\">\n",
       "  <thead>\n",
       "    <tr style=\"text-align: right;\">\n",
       "      <th></th>\n",
       "      <th>polaridad</th>\n",
       "      <th>feedback</th>\n",
       "      <th>target</th>\n",
       "    </tr>\n",
       "  </thead>\n",
       "  <tbody>\n",
       "    <tr>\n",
       "      <th>0</th>\n",
       "      <td>P</td>\n",
       "      <td>muy bien elaborada, se podría incluir ciertos ...</td>\n",
       "      <td>1</td>\n",
       "    </tr>\n",
       "    <tr>\n",
       "      <th>1</th>\n",
       "      <td>P</td>\n",
       "      <td>La información es ordenada y precisa pero reco...</td>\n",
       "      <td>1</td>\n",
       "    </tr>\n",
       "    <tr>\n",
       "      <th>2</th>\n",
       "      <td>P</td>\n",
       "      <td>Excelente aporte</td>\n",
       "      <td>1</td>\n",
       "    </tr>\n",
       "    <tr>\n",
       "      <th>3</th>\n",
       "      <td>N</td>\n",
       "      <td>En la respuesta que le he puesto 3, ha sido po...</td>\n",
       "      <td>0</td>\n",
       "    </tr>\n",
       "    <tr>\n",
       "      <th>4</th>\n",
       "      <td>P</td>\n",
       "      <td>Conciso, excelente</td>\n",
       "      <td>1</td>\n",
       "    </tr>\n",
       "    <tr>\n",
       "      <th>...</th>\n",
       "      <td>...</td>\n",
       "      <td>...</td>\n",
       "      <td>...</td>\n",
       "    </tr>\n",
       "    <tr>\n",
       "      <th>5660</th>\n",
       "      <td>N</td>\n",
       "      <td>No recomiendo este lugar, mala experiencia</td>\n",
       "      <td>0</td>\n",
       "    </tr>\n",
       "    <tr>\n",
       "      <th>5661</th>\n",
       "      <td>NEU</td>\n",
       "      <td>La experiencia fue regular, ni buena ni mala</td>\n",
       "      <td>2</td>\n",
       "    </tr>\n",
       "    <tr>\n",
       "      <th>5663</th>\n",
       "      <td>N</td>\n",
       "      <td>La atención fue deficiente y no cumplieron lo ...</td>\n",
       "      <td>0</td>\n",
       "    </tr>\n",
       "    <tr>\n",
       "      <th>5664</th>\n",
       "      <td>NEU</td>\n",
       "      <td>Podría ser mejor, pero no es terrible</td>\n",
       "      <td>2</td>\n",
       "    </tr>\n",
       "    <tr>\n",
       "      <th>5665</th>\n",
       "      <td>N</td>\n",
       "      <td>No la recomendaria</td>\n",
       "      <td>0</td>\n",
       "    </tr>\n",
       "  </tbody>\n",
       "</table>\n",
       "<p>4693 rows × 3 columns</p>\n",
       "</div>"
      ],
      "text/plain": [
       "     polaridad                                           feedback  target\n",
       "0            P  muy bien elaborada, se podría incluir ciertos ...       1\n",
       "1            P  La información es ordenada y precisa pero reco...       1\n",
       "2            P                                   Excelente aporte       1\n",
       "3            N  En la respuesta que le he puesto 3, ha sido po...       0\n",
       "4            P                                 Conciso, excelente       1\n",
       "...        ...                                                ...     ...\n",
       "5660         N         No recomiendo este lugar, mala experiencia       0\n",
       "5661       NEU       La experiencia fue regular, ni buena ni mala       2\n",
       "5663         N  La atención fue deficiente y no cumplieron lo ...       0\n",
       "5664       NEU              Podría ser mejor, pero no es terrible       2\n",
       "5665         N                                 No la recomendaria       0\n",
       "\n",
       "[4693 rows x 3 columns]"
      ]
     },
     "execution_count": 132,
     "metadata": {},
     "output_type": "execute_result"
    }
   ],
   "source": [
    "df"
   ]
  },
  {
   "cell_type": "markdown",
   "id": "573c8665-8cba-471e-9b56-344bb389dc38",
   "metadata": {},
   "source": [
    "# Preprocesamiento de texto"
   ]
  },
  {
   "cell_type": "code",
   "execution_count": 161,
   "id": "d75445d1-ca04-4d13-a51b-97d5947e8eaa",
   "metadata": {},
   "outputs": [],
   "source": [
    "def limpiar_texto(df):\n",
    "    # Convertir todas las palabras a minúsculas\n",
    "    df['feedback'] = df['feedback'].str.lower()\n",
    "\n",
    "    # Quitar palabras sin valor sintáctico (stop words)\n",
    "    conservar = {'muy','no','si', 'lo'} #Palabras que se desea conservar\n",
    "    stop_words = set(stopwords.words('spanish')) - conservar  # Cambia 'spanish' si necesitas otro idioma\n",
    "    df['feedback'] = df['feedback'].apply(lambda x: ' '.join(\n",
    "        word for word in x.split() if word not in stop_words\n",
    "    ))\n",
    "\n",
    "limpiar_texto(df)"
   ]
  },
  {
   "cell_type": "code",
   "execution_count": 162,
   "id": "9f6267f7-0c0b-4fe1-baa2-67bfb3ce2eca",
   "metadata": {},
   "outputs": [
    {
     "data": {
      "text/html": [
       "<div>\n",
       "<style scoped>\n",
       "    .dataframe tbody tr th:only-of-type {\n",
       "        vertical-align: middle;\n",
       "    }\n",
       "\n",
       "    .dataframe tbody tr th {\n",
       "        vertical-align: top;\n",
       "    }\n",
       "\n",
       "    .dataframe thead th {\n",
       "        text-align: right;\n",
       "    }\n",
       "</style>\n",
       "<table border=\"1\" class=\"dataframe\">\n",
       "  <thead>\n",
       "    <tr style=\"text-align: right;\">\n",
       "      <th></th>\n",
       "      <th>feedback</th>\n",
       "      <th>polaridad</th>\n",
       "    </tr>\n",
       "  </thead>\n",
       "  <tbody>\n",
       "    <tr>\n",
       "      <th>0</th>\n",
       "      <td>experiencia excelente, muy recomendada</td>\n",
       "      <td>P</td>\n",
       "    </tr>\n",
       "    <tr>\n",
       "      <th>1</th>\n",
       "      <td>nunca recibí lo pedí, pésimo servicio</td>\n",
       "      <td>N</td>\n",
       "    </tr>\n",
       "    <tr>\n",
       "      <th>2</th>\n",
       "      <td>no relevante mencionar</td>\n",
       "      <td>NEU</td>\n",
       "    </tr>\n",
       "    <tr>\n",
       "      <th>3</th>\n",
       "      <td>definitivamente lo volvería comprar</td>\n",
       "      <td>P</td>\n",
       "    </tr>\n",
       "    <tr>\n",
       "      <th>4</th>\n",
       "      <td>paquete incompleto defectuoso</td>\n",
       "      <td>N</td>\n",
       "    </tr>\n",
       "    <tr>\n",
       "      <th>...</th>\n",
       "      <td>...</td>\n",
       "      <td>...</td>\n",
       "    </tr>\n",
       "    <tr>\n",
       "      <th>2996</th>\n",
       "      <td>experiencia regular, buena mala</td>\n",
       "      <td>NEU</td>\n",
       "    </tr>\n",
       "    <tr>\n",
       "      <th>2997</th>\n",
       "      <td>equipo funciona perfectamente</td>\n",
       "      <td>P</td>\n",
       "    </tr>\n",
       "    <tr>\n",
       "      <th>2998</th>\n",
       "      <td>atención deficiente no cumplieron lo prometido</td>\n",
       "      <td>N</td>\n",
       "    </tr>\n",
       "    <tr>\n",
       "      <th>2999</th>\n",
       "      <td>podría ser mejor, no terrible</td>\n",
       "      <td>NEU</td>\n",
       "    </tr>\n",
       "    <tr>\n",
       "      <th>3000</th>\n",
       "      <td>no recomendaria</td>\n",
       "      <td>N</td>\n",
       "    </tr>\n",
       "  </tbody>\n",
       "</table>\n",
       "<p>3001 rows × 2 columns</p>\n",
       "</div>"
      ],
      "text/plain": [
       "                                            feedback polaridad\n",
       "0             experiencia excelente, muy recomendada         P\n",
       "1              nunca recibí lo pedí, pésimo servicio         N\n",
       "2                             no relevante mencionar       NEU\n",
       "3                definitivamente lo volvería comprar         P\n",
       "4                      paquete incompleto defectuoso         N\n",
       "...                                              ...       ...\n",
       "2996                 experiencia regular, buena mala       NEU\n",
       "2997                   equipo funciona perfectamente         P\n",
       "2998  atención deficiente no cumplieron lo prometido         N\n",
       "2999                   podría ser mejor, no terrible       NEU\n",
       "3000                                 no recomendaria         N\n",
       "\n",
       "[3001 rows x 2 columns]"
      ]
     },
     "execution_count": 162,
     "metadata": {},
     "output_type": "execute_result"
    }
   ],
   "source": [
    "df"
   ]
  },
  {
   "cell_type": "markdown",
   "id": "44591da3-a313-4304-8195-765b4840ad9a",
   "metadata": {},
   "source": [
    "# Entrenamiento del Modelo"
   ]
  },
  {
   "cell_type": "code",
   "execution_count": 163,
   "id": "a583a2e1-a631-4d0e-90ba-e47069891620",
   "metadata": {},
   "outputs": [],
   "source": [
    "# Division de datos para entrenamiento y prueba\n",
    "X = df['feedback']\n",
    "y = df['polaridad']  \n",
    "X_train, X_test, y_train, y_test = train_test_split(X, y, test_size=0.2, random_state=42)"
   ]
  },
  {
   "cell_type": "code",
   "execution_count": 164,
   "id": "f3d8d9e7-77a5-4f5a-bb6c-a5cae1b270be",
   "metadata": {},
   "outputs": [
    {
     "data": {
      "text/plain": [
       "0               experiencia excelente, muy recomendada\n",
       "1                nunca recibí lo pedí, pésimo servicio\n",
       "2                               no relevante mencionar\n",
       "3                  definitivamente lo volvería comprar\n",
       "4                        paquete incompleto defectuoso\n",
       "                             ...                      \n",
       "2996                   experiencia regular, buena mala\n",
       "2997                     equipo funciona perfectamente\n",
       "2998    atención deficiente no cumplieron lo prometido\n",
       "2999                     podría ser mejor, no terrible\n",
       "3000                                   no recomendaria\n",
       "Name: feedback, Length: 3001, dtype: object"
      ]
     },
     "execution_count": 164,
     "metadata": {},
     "output_type": "execute_result"
    }
   ],
   "source": [
    "X"
   ]
  },
  {
   "cell_type": "code",
   "execution_count": 165,
   "id": "c4a08ebd-2f1a-4e6d-8a02-8bfc44cbf983",
   "metadata": {},
   "outputs": [
    {
     "data": {
      "text/plain": [
       "0         P\n",
       "1         N\n",
       "2       NEU\n",
       "3         P\n",
       "4         N\n",
       "       ... \n",
       "2996    NEU\n",
       "2997      P\n",
       "2998      N\n",
       "2999    NEU\n",
       "3000      N\n",
       "Name: polaridad, Length: 3001, dtype: object"
      ]
     },
     "execution_count": 165,
     "metadata": {},
     "output_type": "execute_result"
    }
   ],
   "source": [
    "y"
   ]
  },
  {
   "cell_type": "code",
   "execution_count": 166,
   "id": "ed1c6df2-f786-4a42-9431-20152e33f538",
   "metadata": {},
   "outputs": [],
   "source": [
    "# Crear un pipeline para la vecorización y clasificación de los datos de entrenamiento\n",
    "pipeline = Pipeline([\n",
    "    ('vectorizer', TfidfVectorizer(max_features=1400, ngram_range=(1, 2))),  # Vectorización\n",
    "    ('classifier', LogisticRegression())  # Clasificación\n",
    "])"
   ]
  },
  {
   "cell_type": "code",
   "execution_count": 167,
   "id": "3998454c-a7f4-496c-8b1a-2cab8ff82418",
   "metadata": {},
   "outputs": [
    {
     "data": {
      "text/html": [
       "<style>#sk-container-id-4 {\n",
       "  /* Definition of color scheme common for light and dark mode */\n",
       "  --sklearn-color-text: #000;\n",
       "  --sklearn-color-text-muted: #666;\n",
       "  --sklearn-color-line: gray;\n",
       "  /* Definition of color scheme for unfitted estimators */\n",
       "  --sklearn-color-unfitted-level-0: #fff5e6;\n",
       "  --sklearn-color-unfitted-level-1: #f6e4d2;\n",
       "  --sklearn-color-unfitted-level-2: #ffe0b3;\n",
       "  --sklearn-color-unfitted-level-3: chocolate;\n",
       "  /* Definition of color scheme for fitted estimators */\n",
       "  --sklearn-color-fitted-level-0: #f0f8ff;\n",
       "  --sklearn-color-fitted-level-1: #d4ebff;\n",
       "  --sklearn-color-fitted-level-2: #b3dbfd;\n",
       "  --sklearn-color-fitted-level-3: cornflowerblue;\n",
       "\n",
       "  /* Specific color for light theme */\n",
       "  --sklearn-color-text-on-default-background: var(--sg-text-color, var(--theme-code-foreground, var(--jp-content-font-color1, black)));\n",
       "  --sklearn-color-background: var(--sg-background-color, var(--theme-background, var(--jp-layout-color0, white)));\n",
       "  --sklearn-color-border-box: var(--sg-text-color, var(--theme-code-foreground, var(--jp-content-font-color1, black)));\n",
       "  --sklearn-color-icon: #696969;\n",
       "\n",
       "  @media (prefers-color-scheme: dark) {\n",
       "    /* Redefinition of color scheme for dark theme */\n",
       "    --sklearn-color-text-on-default-background: var(--sg-text-color, var(--theme-code-foreground, var(--jp-content-font-color1, white)));\n",
       "    --sklearn-color-background: var(--sg-background-color, var(--theme-background, var(--jp-layout-color0, #111)));\n",
       "    --sklearn-color-border-box: var(--sg-text-color, var(--theme-code-foreground, var(--jp-content-font-color1, white)));\n",
       "    --sklearn-color-icon: #878787;\n",
       "  }\n",
       "}\n",
       "\n",
       "#sk-container-id-4 {\n",
       "  color: var(--sklearn-color-text);\n",
       "}\n",
       "\n",
       "#sk-container-id-4 pre {\n",
       "  padding: 0;\n",
       "}\n",
       "\n",
       "#sk-container-id-4 input.sk-hidden--visually {\n",
       "  border: 0;\n",
       "  clip: rect(1px 1px 1px 1px);\n",
       "  clip: rect(1px, 1px, 1px, 1px);\n",
       "  height: 1px;\n",
       "  margin: -1px;\n",
       "  overflow: hidden;\n",
       "  padding: 0;\n",
       "  position: absolute;\n",
       "  width: 1px;\n",
       "}\n",
       "\n",
       "#sk-container-id-4 div.sk-dashed-wrapped {\n",
       "  border: 1px dashed var(--sklearn-color-line);\n",
       "  margin: 0 0.4em 0.5em 0.4em;\n",
       "  box-sizing: border-box;\n",
       "  padding-bottom: 0.4em;\n",
       "  background-color: var(--sklearn-color-background);\n",
       "}\n",
       "\n",
       "#sk-container-id-4 div.sk-container {\n",
       "  /* jupyter's `normalize.less` sets `[hidden] { display: none; }`\n",
       "     but bootstrap.min.css set `[hidden] { display: none !important; }`\n",
       "     so we also need the `!important` here to be able to override the\n",
       "     default hidden behavior on the sphinx rendered scikit-learn.org.\n",
       "     See: https://github.com/scikit-learn/scikit-learn/issues/21755 */\n",
       "  display: inline-block !important;\n",
       "  position: relative;\n",
       "}\n",
       "\n",
       "#sk-container-id-4 div.sk-text-repr-fallback {\n",
       "  display: none;\n",
       "}\n",
       "\n",
       "div.sk-parallel-item,\n",
       "div.sk-serial,\n",
       "div.sk-item {\n",
       "  /* draw centered vertical line to link estimators */\n",
       "  background-image: linear-gradient(var(--sklearn-color-text-on-default-background), var(--sklearn-color-text-on-default-background));\n",
       "  background-size: 2px 100%;\n",
       "  background-repeat: no-repeat;\n",
       "  background-position: center center;\n",
       "}\n",
       "\n",
       "/* Parallel-specific style estimator block */\n",
       "\n",
       "#sk-container-id-4 div.sk-parallel-item::after {\n",
       "  content: \"\";\n",
       "  width: 100%;\n",
       "  border-bottom: 2px solid var(--sklearn-color-text-on-default-background);\n",
       "  flex-grow: 1;\n",
       "}\n",
       "\n",
       "#sk-container-id-4 div.sk-parallel {\n",
       "  display: flex;\n",
       "  align-items: stretch;\n",
       "  justify-content: center;\n",
       "  background-color: var(--sklearn-color-background);\n",
       "  position: relative;\n",
       "}\n",
       "\n",
       "#sk-container-id-4 div.sk-parallel-item {\n",
       "  display: flex;\n",
       "  flex-direction: column;\n",
       "}\n",
       "\n",
       "#sk-container-id-4 div.sk-parallel-item:first-child::after {\n",
       "  align-self: flex-end;\n",
       "  width: 50%;\n",
       "}\n",
       "\n",
       "#sk-container-id-4 div.sk-parallel-item:last-child::after {\n",
       "  align-self: flex-start;\n",
       "  width: 50%;\n",
       "}\n",
       "\n",
       "#sk-container-id-4 div.sk-parallel-item:only-child::after {\n",
       "  width: 0;\n",
       "}\n",
       "\n",
       "/* Serial-specific style estimator block */\n",
       "\n",
       "#sk-container-id-4 div.sk-serial {\n",
       "  display: flex;\n",
       "  flex-direction: column;\n",
       "  align-items: center;\n",
       "  background-color: var(--sklearn-color-background);\n",
       "  padding-right: 1em;\n",
       "  padding-left: 1em;\n",
       "}\n",
       "\n",
       "\n",
       "/* Toggleable style: style used for estimator/Pipeline/ColumnTransformer box that is\n",
       "clickable and can be expanded/collapsed.\n",
       "- Pipeline and ColumnTransformer use this feature and define the default style\n",
       "- Estimators will overwrite some part of the style using the `sk-estimator` class\n",
       "*/\n",
       "\n",
       "/* Pipeline and ColumnTransformer style (default) */\n",
       "\n",
       "#sk-container-id-4 div.sk-toggleable {\n",
       "  /* Default theme specific background. It is overwritten whether we have a\n",
       "  specific estimator or a Pipeline/ColumnTransformer */\n",
       "  background-color: var(--sklearn-color-background);\n",
       "}\n",
       "\n",
       "/* Toggleable label */\n",
       "#sk-container-id-4 label.sk-toggleable__label {\n",
       "  cursor: pointer;\n",
       "  display: flex;\n",
       "  width: 100%;\n",
       "  margin-bottom: 0;\n",
       "  padding: 0.5em;\n",
       "  box-sizing: border-box;\n",
       "  text-align: center;\n",
       "  align-items: start;\n",
       "  justify-content: space-between;\n",
       "  gap: 0.5em;\n",
       "}\n",
       "\n",
       "#sk-container-id-4 label.sk-toggleable__label .caption {\n",
       "  font-size: 0.6rem;\n",
       "  font-weight: lighter;\n",
       "  color: var(--sklearn-color-text-muted);\n",
       "}\n",
       "\n",
       "#sk-container-id-4 label.sk-toggleable__label-arrow:before {\n",
       "  /* Arrow on the left of the label */\n",
       "  content: \"▸\";\n",
       "  float: left;\n",
       "  margin-right: 0.25em;\n",
       "  color: var(--sklearn-color-icon);\n",
       "}\n",
       "\n",
       "#sk-container-id-4 label.sk-toggleable__label-arrow:hover:before {\n",
       "  color: var(--sklearn-color-text);\n",
       "}\n",
       "\n",
       "/* Toggleable content - dropdown */\n",
       "\n",
       "#sk-container-id-4 div.sk-toggleable__content {\n",
       "  max-height: 0;\n",
       "  max-width: 0;\n",
       "  overflow: hidden;\n",
       "  text-align: left;\n",
       "  /* unfitted */\n",
       "  background-color: var(--sklearn-color-unfitted-level-0);\n",
       "}\n",
       "\n",
       "#sk-container-id-4 div.sk-toggleable__content.fitted {\n",
       "  /* fitted */\n",
       "  background-color: var(--sklearn-color-fitted-level-0);\n",
       "}\n",
       "\n",
       "#sk-container-id-4 div.sk-toggleable__content pre {\n",
       "  margin: 0.2em;\n",
       "  border-radius: 0.25em;\n",
       "  color: var(--sklearn-color-text);\n",
       "  /* unfitted */\n",
       "  background-color: var(--sklearn-color-unfitted-level-0);\n",
       "}\n",
       "\n",
       "#sk-container-id-4 div.sk-toggleable__content.fitted pre {\n",
       "  /* unfitted */\n",
       "  background-color: var(--sklearn-color-fitted-level-0);\n",
       "}\n",
       "\n",
       "#sk-container-id-4 input.sk-toggleable__control:checked~div.sk-toggleable__content {\n",
       "  /* Expand drop-down */\n",
       "  max-height: 200px;\n",
       "  max-width: 100%;\n",
       "  overflow: auto;\n",
       "}\n",
       "\n",
       "#sk-container-id-4 input.sk-toggleable__control:checked~label.sk-toggleable__label-arrow:before {\n",
       "  content: \"▾\";\n",
       "}\n",
       "\n",
       "/* Pipeline/ColumnTransformer-specific style */\n",
       "\n",
       "#sk-container-id-4 div.sk-label input.sk-toggleable__control:checked~label.sk-toggleable__label {\n",
       "  color: var(--sklearn-color-text);\n",
       "  background-color: var(--sklearn-color-unfitted-level-2);\n",
       "}\n",
       "\n",
       "#sk-container-id-4 div.sk-label.fitted input.sk-toggleable__control:checked~label.sk-toggleable__label {\n",
       "  background-color: var(--sklearn-color-fitted-level-2);\n",
       "}\n",
       "\n",
       "/* Estimator-specific style */\n",
       "\n",
       "/* Colorize estimator box */\n",
       "#sk-container-id-4 div.sk-estimator input.sk-toggleable__control:checked~label.sk-toggleable__label {\n",
       "  /* unfitted */\n",
       "  background-color: var(--sklearn-color-unfitted-level-2);\n",
       "}\n",
       "\n",
       "#sk-container-id-4 div.sk-estimator.fitted input.sk-toggleable__control:checked~label.sk-toggleable__label {\n",
       "  /* fitted */\n",
       "  background-color: var(--sklearn-color-fitted-level-2);\n",
       "}\n",
       "\n",
       "#sk-container-id-4 div.sk-label label.sk-toggleable__label,\n",
       "#sk-container-id-4 div.sk-label label {\n",
       "  /* The background is the default theme color */\n",
       "  color: var(--sklearn-color-text-on-default-background);\n",
       "}\n",
       "\n",
       "/* On hover, darken the color of the background */\n",
       "#sk-container-id-4 div.sk-label:hover label.sk-toggleable__label {\n",
       "  color: var(--sklearn-color-text);\n",
       "  background-color: var(--sklearn-color-unfitted-level-2);\n",
       "}\n",
       "\n",
       "/* Label box, darken color on hover, fitted */\n",
       "#sk-container-id-4 div.sk-label.fitted:hover label.sk-toggleable__label.fitted {\n",
       "  color: var(--sklearn-color-text);\n",
       "  background-color: var(--sklearn-color-fitted-level-2);\n",
       "}\n",
       "\n",
       "/* Estimator label */\n",
       "\n",
       "#sk-container-id-4 div.sk-label label {\n",
       "  font-family: monospace;\n",
       "  font-weight: bold;\n",
       "  display: inline-block;\n",
       "  line-height: 1.2em;\n",
       "}\n",
       "\n",
       "#sk-container-id-4 div.sk-label-container {\n",
       "  text-align: center;\n",
       "}\n",
       "\n",
       "/* Estimator-specific */\n",
       "#sk-container-id-4 div.sk-estimator {\n",
       "  font-family: monospace;\n",
       "  border: 1px dotted var(--sklearn-color-border-box);\n",
       "  border-radius: 0.25em;\n",
       "  box-sizing: border-box;\n",
       "  margin-bottom: 0.5em;\n",
       "  /* unfitted */\n",
       "  background-color: var(--sklearn-color-unfitted-level-0);\n",
       "}\n",
       "\n",
       "#sk-container-id-4 div.sk-estimator.fitted {\n",
       "  /* fitted */\n",
       "  background-color: var(--sklearn-color-fitted-level-0);\n",
       "}\n",
       "\n",
       "/* on hover */\n",
       "#sk-container-id-4 div.sk-estimator:hover {\n",
       "  /* unfitted */\n",
       "  background-color: var(--sklearn-color-unfitted-level-2);\n",
       "}\n",
       "\n",
       "#sk-container-id-4 div.sk-estimator.fitted:hover {\n",
       "  /* fitted */\n",
       "  background-color: var(--sklearn-color-fitted-level-2);\n",
       "}\n",
       "\n",
       "/* Specification for estimator info (e.g. \"i\" and \"?\") */\n",
       "\n",
       "/* Common style for \"i\" and \"?\" */\n",
       "\n",
       ".sk-estimator-doc-link,\n",
       "a:link.sk-estimator-doc-link,\n",
       "a:visited.sk-estimator-doc-link {\n",
       "  float: right;\n",
       "  font-size: smaller;\n",
       "  line-height: 1em;\n",
       "  font-family: monospace;\n",
       "  background-color: var(--sklearn-color-background);\n",
       "  border-radius: 1em;\n",
       "  height: 1em;\n",
       "  width: 1em;\n",
       "  text-decoration: none !important;\n",
       "  margin-left: 0.5em;\n",
       "  text-align: center;\n",
       "  /* unfitted */\n",
       "  border: var(--sklearn-color-unfitted-level-1) 1pt solid;\n",
       "  color: var(--sklearn-color-unfitted-level-1);\n",
       "}\n",
       "\n",
       ".sk-estimator-doc-link.fitted,\n",
       "a:link.sk-estimator-doc-link.fitted,\n",
       "a:visited.sk-estimator-doc-link.fitted {\n",
       "  /* fitted */\n",
       "  border: var(--sklearn-color-fitted-level-1) 1pt solid;\n",
       "  color: var(--sklearn-color-fitted-level-1);\n",
       "}\n",
       "\n",
       "/* On hover */\n",
       "div.sk-estimator:hover .sk-estimator-doc-link:hover,\n",
       ".sk-estimator-doc-link:hover,\n",
       "div.sk-label-container:hover .sk-estimator-doc-link:hover,\n",
       ".sk-estimator-doc-link:hover {\n",
       "  /* unfitted */\n",
       "  background-color: var(--sklearn-color-unfitted-level-3);\n",
       "  color: var(--sklearn-color-background);\n",
       "  text-decoration: none;\n",
       "}\n",
       "\n",
       "div.sk-estimator.fitted:hover .sk-estimator-doc-link.fitted:hover,\n",
       ".sk-estimator-doc-link.fitted:hover,\n",
       "div.sk-label-container:hover .sk-estimator-doc-link.fitted:hover,\n",
       ".sk-estimator-doc-link.fitted:hover {\n",
       "  /* fitted */\n",
       "  background-color: var(--sklearn-color-fitted-level-3);\n",
       "  color: var(--sklearn-color-background);\n",
       "  text-decoration: none;\n",
       "}\n",
       "\n",
       "/* Span, style for the box shown on hovering the info icon */\n",
       ".sk-estimator-doc-link span {\n",
       "  display: none;\n",
       "  z-index: 9999;\n",
       "  position: relative;\n",
       "  font-weight: normal;\n",
       "  right: .2ex;\n",
       "  padding: .5ex;\n",
       "  margin: .5ex;\n",
       "  width: min-content;\n",
       "  min-width: 20ex;\n",
       "  max-width: 50ex;\n",
       "  color: var(--sklearn-color-text);\n",
       "  box-shadow: 2pt 2pt 4pt #999;\n",
       "  /* unfitted */\n",
       "  background: var(--sklearn-color-unfitted-level-0);\n",
       "  border: .5pt solid var(--sklearn-color-unfitted-level-3);\n",
       "}\n",
       "\n",
       ".sk-estimator-doc-link.fitted span {\n",
       "  /* fitted */\n",
       "  background: var(--sklearn-color-fitted-level-0);\n",
       "  border: var(--sklearn-color-fitted-level-3);\n",
       "}\n",
       "\n",
       ".sk-estimator-doc-link:hover span {\n",
       "  display: block;\n",
       "}\n",
       "\n",
       "/* \"?\"-specific style due to the `<a>` HTML tag */\n",
       "\n",
       "#sk-container-id-4 a.estimator_doc_link {\n",
       "  float: right;\n",
       "  font-size: 1rem;\n",
       "  line-height: 1em;\n",
       "  font-family: monospace;\n",
       "  background-color: var(--sklearn-color-background);\n",
       "  border-radius: 1rem;\n",
       "  height: 1rem;\n",
       "  width: 1rem;\n",
       "  text-decoration: none;\n",
       "  /* unfitted */\n",
       "  color: var(--sklearn-color-unfitted-level-1);\n",
       "  border: var(--sklearn-color-unfitted-level-1) 1pt solid;\n",
       "}\n",
       "\n",
       "#sk-container-id-4 a.estimator_doc_link.fitted {\n",
       "  /* fitted */\n",
       "  border: var(--sklearn-color-fitted-level-1) 1pt solid;\n",
       "  color: var(--sklearn-color-fitted-level-1);\n",
       "}\n",
       "\n",
       "/* On hover */\n",
       "#sk-container-id-4 a.estimator_doc_link:hover {\n",
       "  /* unfitted */\n",
       "  background-color: var(--sklearn-color-unfitted-level-3);\n",
       "  color: var(--sklearn-color-background);\n",
       "  text-decoration: none;\n",
       "}\n",
       "\n",
       "#sk-container-id-4 a.estimator_doc_link.fitted:hover {\n",
       "  /* fitted */\n",
       "  background-color: var(--sklearn-color-fitted-level-3);\n",
       "}\n",
       "</style><div id=\"sk-container-id-4\" class=\"sk-top-container\"><div class=\"sk-text-repr-fallback\"><pre>Pipeline(steps=[(&#x27;vectorizer&#x27;,\n",
       "                 TfidfVectorizer(max_features=1400, ngram_range=(1, 2))),\n",
       "                (&#x27;classifier&#x27;, LogisticRegression())])</pre><b>In a Jupyter environment, please rerun this cell to show the HTML representation or trust the notebook. <br />On GitHub, the HTML representation is unable to render, please try loading this page with nbviewer.org.</b></div><div class=\"sk-container\" hidden><div class=\"sk-item sk-dashed-wrapped\"><div class=\"sk-label-container\"><div class=\"sk-label fitted sk-toggleable\"><input class=\"sk-toggleable__control sk-hidden--visually\" id=\"sk-estimator-id-10\" type=\"checkbox\" ><label for=\"sk-estimator-id-10\" class=\"sk-toggleable__label fitted sk-toggleable__label-arrow\"><div><div>Pipeline</div></div><div><a class=\"sk-estimator-doc-link fitted\" rel=\"noreferrer\" target=\"_blank\" href=\"https://scikit-learn.org/1.6/modules/generated/sklearn.pipeline.Pipeline.html\">?<span>Documentation for Pipeline</span></a><span class=\"sk-estimator-doc-link fitted\">i<span>Fitted</span></span></div></label><div class=\"sk-toggleable__content fitted\"><pre>Pipeline(steps=[(&#x27;vectorizer&#x27;,\n",
       "                 TfidfVectorizer(max_features=1400, ngram_range=(1, 2))),\n",
       "                (&#x27;classifier&#x27;, LogisticRegression())])</pre></div> </div></div><div class=\"sk-serial\"><div class=\"sk-item\"><div class=\"sk-estimator fitted sk-toggleable\"><input class=\"sk-toggleable__control sk-hidden--visually\" id=\"sk-estimator-id-11\" type=\"checkbox\" ><label for=\"sk-estimator-id-11\" class=\"sk-toggleable__label fitted sk-toggleable__label-arrow\"><div><div>TfidfVectorizer</div></div><div><a class=\"sk-estimator-doc-link fitted\" rel=\"noreferrer\" target=\"_blank\" href=\"https://scikit-learn.org/1.6/modules/generated/sklearn.feature_extraction.text.TfidfVectorizer.html\">?<span>Documentation for TfidfVectorizer</span></a></div></label><div class=\"sk-toggleable__content fitted\"><pre>TfidfVectorizer(max_features=1400, ngram_range=(1, 2))</pre></div> </div></div><div class=\"sk-item\"><div class=\"sk-estimator fitted sk-toggleable\"><input class=\"sk-toggleable__control sk-hidden--visually\" id=\"sk-estimator-id-12\" type=\"checkbox\" ><label for=\"sk-estimator-id-12\" class=\"sk-toggleable__label fitted sk-toggleable__label-arrow\"><div><div>LogisticRegression</div></div><div><a class=\"sk-estimator-doc-link fitted\" rel=\"noreferrer\" target=\"_blank\" href=\"https://scikit-learn.org/1.6/modules/generated/sklearn.linear_model.LogisticRegression.html\">?<span>Documentation for LogisticRegression</span></a></div></label><div class=\"sk-toggleable__content fitted\"><pre>LogisticRegression()</pre></div> </div></div></div></div></div></div>"
      ],
      "text/plain": [
       "Pipeline(steps=[('vectorizer',\n",
       "                 TfidfVectorizer(max_features=1400, ngram_range=(1, 2))),\n",
       "                ('classifier', LogisticRegression())])"
      ]
     },
     "execution_count": 167,
     "metadata": {},
     "output_type": "execute_result"
    }
   ],
   "source": [
    "# Entrenar el modelo\n",
    "pipeline.fit(X_train, y_train)"
   ]
  },
  {
   "cell_type": "code",
   "execution_count": 168,
   "id": "bf18634c-451a-409b-9786-2ee49a4ee6ce",
   "metadata": {},
   "outputs": [
    {
     "name": "stdout",
     "output_type": "stream",
     "text": [
      "              precision    recall  f1-score   support\n",
      "\n",
      "           N       1.00      0.99      1.00       187\n",
      "         NEU       1.00      1.00      1.00       210\n",
      "           P       1.00      1.00      1.00       204\n",
      "\n",
      "    accuracy                           1.00       601\n",
      "   macro avg       1.00      1.00      1.00       601\n",
      "weighted avg       1.00      1.00      1.00       601\n",
      "\n"
     ]
    }
   ],
   "source": [
    "# Evaluar el modelo\n",
    "y_pred = pipeline.predict(X_test)\n",
    "print(classification_report(y_test, y_pred))"
   ]
  },
  {
   "cell_type": "markdown",
   "id": "4f260f0d-bb1e-4167-9c5e-cdde56c29e61",
   "metadata": {},
   "source": [
    "# Resultados"
   ]
  },
  {
   "cell_type": "code",
   "execution_count": 169,
   "id": "3516121a-757e-4b01-8097-048b14306bb3",
   "metadata": {},
   "outputs": [
    {
     "name": "stdout",
     "output_type": "stream",
     "text": [
      "Entrenamiento: 1.0\n",
      "Prueba: 0.9983361064891847\n"
     ]
    }
   ],
   "source": [
    "print ('Entrenamiento:', pipeline.score(X_train, y_train))\n",
    "print ('Prueba:', pipeline.score(X_test, y_test))"
   ]
  },
  {
   "cell_type": "code",
   "execution_count": 170,
   "id": "84ac572f-8021-4094-9988-bd96954ec783",
   "metadata": {},
   "outputs": [],
   "source": [
    "# Extraer predicciones para entrenamiento y prueba\n",
    "P_train = pipeline.predict(X_train)\n",
    "P_test = pipeline.predict(X_test)"
   ]
  },
  {
   "cell_type": "code",
   "execution_count": 171,
   "id": "8ded1196-f40f-48fd-ae6a-94e2846bc34d",
   "metadata": {},
   "outputs": [],
   "source": [
    "# Obtener el clasificador y vectorizador del pipeline\n",
    "model = pipeline.named_steps['classifier']\n",
    "vectorizer = pipeline.named_steps['vectorizer']"
   ]
  },
  {
   "cell_type": "code",
   "execution_count": 172,
   "id": "f7cfbbfc-ad36-45e6-b4e1-1e2605a65c6d",
   "metadata": {},
   "outputs": [],
   "source": [
    "# Calcular matriz de confusión normalizada\n",
    "cm_train = confusion_matrix(y_train, P_train, normalize='true')\n",
    "cm_test = confusion_matrix(y_test, P_test, normalize='true')"
   ]
  },
  {
   "cell_type": "code",
   "execution_count": 173,
   "id": "22ee781b-5a69-47de-a84d-37df052fbb4a",
   "metadata": {},
   "outputs": [],
   "source": [
    "# Función para graficar matriz de confusión\n",
    "def plot_cm(cm, title=\"Matriz de Confusión\"):\n",
    "    classes = ['negativo', 'positivo', 'neutral']  # Ajustar según tus etiquetas\n",
    "    df_cm = pd.DataFrame(cm, index=classes, columns=classes)\n",
    "    ax = sn.heatmap(df_cm, annot=True, fmt='g', cmap=\"Blues\")\n",
    "    ax.set_title(title)\n",
    "    ax.set_xlabel(\"Predicción\")\n",
    "    ax.set_ylabel(\"Objetivo\")\n",
    "    plt.show()"
   ]
  },
  {
   "cell_type": "code",
   "execution_count": 174,
   "id": "5a2e4977-364b-4e5f-8b49-806d0c169bc0",
   "metadata": {},
   "outputs": [
    {
     "data": {
      "image/png": "[encoded data removed]",
      "text/plain": [
       "<Figure size 640x480 with 2 Axes>"
      ]
     },
     "metadata": {},
     "output_type": "display_data"
    },
    {
     "data": {
      "image/png": "[encoded data removed]",
      "text/plain": [
       "<Figure size 640x480 with 2 Axes>"
      ]
     },
     "metadata": {},
     "output_type": "display_data"
    }
   ],
   "source": [
    "# Graficar matrices de confusión\n",
    "plot_cm(cm_train, title=\"Matriz de Confusión (Entrenamiento)\")\n",
    "plot_cm(cm_test, title=\"Matriz de Confusión (Prueba)\")"
   ]
  },
  {
   "cell_type": "code",
   "execution_count": 175,
   "id": "b005a905-4631-40fd-beb1-74435c5a98cc",
   "metadata": {
    "scrolled": true
   },
   "outputs": [],
   "source": [
    "# Extraer vocabulario y coeficientes\n",
    "model = pipeline.named_steps['classifier']\n",
    "vectorizer = pipeline.named_steps['vectorizer']\n",
    "\n",
    "word_index_map = vectorizer.vocabulary_\n",
    "coef = model.coef_[0]"
   ]
  },
  {
   "cell_type": "code",
   "execution_count": 176,
   "id": "807afeef-e0b8-4869-932e-b999d1483cc8",
   "metadata": {},
   "outputs": [
    {
     "name": "stdout",
     "output_type": "stream",
     "text": [
      "Distribución de coeficientes:\n",
      "Mínimo: -1.207642000914526, Máximo: 1.7677981086250296\n"
     ]
    }
   ],
   "source": [
    "# Diagnóstico de coeficientes\n",
    "print(\"Distribución de coeficientes:\")\n",
    "print(f\"Mínimo: {np.min(coef)}, Máximo: {np.max(coef)}\")"
   ]
  },
  {
   "cell_type": "code",
   "execution_count": 177,
   "id": "8f952cfd-80d9-49c4-ab45-774d2ff5bd89",
   "metadata": {},
   "outputs": [],
   "source": [
    "# Ajustar umbrales basados en la distribución\n",
    "corte_positivo = np.percentile(coef, 90)  # Top 10% más altos\n",
    "corte_negativo = np.percentile(coef, 10)  # Bottom 10% más bajos"
   ]
  },
  {
   "cell_type": "code",
   "execution_count": 178,
   "id": "39d1402f-bb70-42f9-9a38-58cfb6fa6bec",
   "metadata": {},
   "outputs": [
    {
     "name": "stdout",
     "output_type": "stream",
     "text": [
      "Palabras más positivas:\n",
      "atención: 1.7677981086250296\n",
      "lo: 1.4618653918293485\n",
      "trato: 1.3101564665223548\n",
      "recibido: 1.3101564665223548\n",
      "trato recibido: 1.3101564665223548\n",
      "recibido terrible: 1.3101564665223548\n",
      "cliente: 1.340586008192254\n",
      "mejorar atención: 1.340586008192254\n",
      "atención cliente: 1.340586008192254\n",
      "recomiendo: 1.6503083269320917\n",
      "recibí: 1.6104648789428462\n",
      "paquete: 1.2171135427102773\n",
      "incompleto: 1.2171135427102773\n",
      "defectuoso: 1.2171135427102773\n",
      "paquete incompleto: 1.2171135427102773\n",
      "incompleto defectuoso: 1.2171135427102773\n"
     ]
    }
   ],
   "source": [
    "# Mostrar palabras con coeficientes altos (positivas)\n",
    "print(\"Palabras más positivas:\")\n",
    "for word, index in word_index_map.items():\n",
    "    weight = coef[index]\n",
    "    if weight > corte_positivo:\n",
    "        print(f\"{word}: {weight}\")"
   ]
  },
  {
   "cell_type": "code",
   "execution_count": 179,
   "id": "2173ff98-4f57-4e53-86f8-61c6903ccb4c",
   "metadata": {},
   "outputs": [
    {
     "name": "stdout",
     "output_type": "stream",
     "text": [
      "\n",
      "Palabras más negativas:\n",
      "buena: -0.9831151524129645\n",
      "podría: -0.9278624765353624\n",
      "servicio: -1.207642000914526\n",
      "recomendaría: -0.707956407501307\n",
      "amigos: -0.707956407501307\n",
      "recomendaría lugar: -0.707956407501307\n",
      "lugar amigos: -0.707956407501307\n",
      "excelente: -0.8228860858473075\n",
      "muy: -1.1432763266266166\n",
      "destaca: -0.7872837524649903\n",
      "no destaca: -0.7872837524649903\n",
      "perfectamente: -0.8393785351390923\n",
      "relevante: -0.6948168711607624\n",
      "mencionar: -0.6948168711607624\n",
      "no relevante: -0.6948168711607624\n",
      "relevante mencionar: -0.6948168711607624\n"
     ]
    }
   ],
   "source": [
    "# Mostrar palabras con coeficientes bajos (negativas)\n",
    "print(\"\\nPalabras más negativas:\")\n",
    "for word, index in word_index_map.items():\n",
    "    weight = coef[index]\n",
    "    if weight < corte_negativo:\n",
    "        print(f\"{word}: {weight}\")"
   ]
  },
  {
   "cell_type": "code",
   "execution_count": 180,
   "id": "ee7d3ad4-e486-4bde-bba1-648788c5cce4",
   "metadata": {},
   "outputs": [
    {
     "data": {
      "image/png": "[encoded data removed]",
      "text/plain": [
       "<Figure size 640x480 with 1 Axes>"
      ]
     },
     "metadata": {},
     "output_type": "display_data"
    }
   ],
   "source": [
    "plt.hist(coef, bins=50)\n",
    "plt.title(\"Distribución de los Coeficientes\")\n",
    "plt.xlabel(\"Valor del Coeficiente\")\n",
    "plt.ylabel(\"Frecuencia\")\n",
    "plt.show()"
   ]
  },
  {
   "cell_type": "markdown",
   "id": "a2c49353-9ff7-4f5c-acab-76fab288b1c8",
   "metadata": {},
   "source": [
    "# Prueba de Modelo"
   ]
  },
  {
   "cell_type": "code",
   "execution_count": 186,
   "id": "1a58a64a-10cf-4432-918d-2d1476dea8ae",
   "metadata": {},
   "outputs": [],
   "source": [
    "# Frases de prueba\n",
    "prueba = [\n",
    "    \"El servicio fue excelente, muy recomendado\",  # Positiva \n",
    "    \"No la recomendaria\", # Negativa\n",
    "    \"Es un producto aceptable, pero podría mejorar\",  # Neutra\n",
    "    \"La película fue increíble\", # Positivo\n",
    "    \"El juego fue muy malo\", # Negativo\n",
    "    \"Vamos a comer\",\n",
    "    \"No te diría que la veas\", # Neutral\n",
    "    \"Muy malo\",\n",
    "    \"malo\" # Negativo\n",
    "]"
   ]
  },
  {
   "cell_type": "code",
   "execution_count": 187,
   "id": "78060d05-bcf2-49c1-99c6-2cd95029235a",
   "metadata": {},
   "outputs": [],
   "source": [
    "# Preprocesar las frases como se hizo en el conjunto de entrenamiento\n",
    "# Convertir a minúsculas y quitar stop words\n",
    "prueba_preprocesada = [\n",
    "    ' '.join(word for word in frase.lower().split() if word not in set(stopwords.words('spanish')))\n",
    "    for frase in prueba\n",
    "]"
   ]
  },
  {
   "cell_type": "code",
   "execution_count": 188,
   "id": "f58627f6-964e-4f09-a3a3-94640fdc047a",
   "metadata": {},
   "outputs": [],
   "source": [
    "# Vectorizar las frases de prueba\n",
    "X_prueba = pipeline.named_steps['vectorizer'].transform(prueba_preprocesada)"
   ]
  },
  {
   "cell_type": "code",
   "execution_count": 189,
   "id": "2df1a456-a541-40c8-aacd-9982c6ade493",
   "metadata": {},
   "outputs": [],
   "source": [
    "# Predecir con el modelo\n",
    "predicciones = pipeline.named_steps['classifier'].predict(X_prueba)"
   ]
  },
  {
   "cell_type": "code",
   "execution_count": 190,
   "id": "f3d8f464-7210-4c44-9bea-c07d306adcc2",
   "metadata": {},
   "outputs": [
    {
     "name": "stdout",
     "output_type": "stream",
     "text": [
      "Frase: El servicio fue excelente, muy recomendado\n",
      "Predicción: Positiva\n",
      "Frase: No la recomendaria\n",
      "Predicción: Positiva\n",
      "Frase: Es un producto aceptable, pero podría mejorar\n",
      "Predicción: Neutra\n",
      "Frase: La película fue increíble\n",
      "Predicción: Positiva\n",
      "Frase: El juego fue muy malo\n",
      "Predicción: Positiva\n",
      "Frase: Vamos a comer\n",
      "Predicción: Positiva\n",
      "Frase: No te diría que la veas\n",
      "Predicción: Positiva\n",
      "Frase: Muy malo\n",
      "Predicción: Positiva\n",
      "Frase: malo\n",
      "Predicción: Positiva\n"
     ]
    }
   ],
   "source": [
    "# Mostrar resultados\n",
    "for i, frase in enumerate(prueba):\n",
    "    print(f\"Frase: {frase}\")\n",
    "    if predicciones[i] == 'P':\n",
    "        print(f\"Predicción: Positiva\")\n",
    "    elif predicciones[i] == 'N':\n",
    "        print(f\"Predicción: Negativa\")\n",
    "    else:\n",
    "        print(f\"Predicción: Neutra\")"
   ]
  }
 ],
 "metadata": {
  "kernelspec": {
   "display_name": "Python 3 (ipykernel)",
   "language": "python",
   "name": "python3"
  },
  "language_info": {
   "codemirror_mode": {
    "name": "ipython",
    "version": 3
   },
   "file_extension": ".py",
   "mimetype": "text/x-python",
   "name": "python",
   "nbconvert_exporter": "python",
   "pygments_lexer": "ipython3",
   "version": "3.12.6"
  }
 },
 "nbformat": 4,
 "nbformat_minor": 5
}
